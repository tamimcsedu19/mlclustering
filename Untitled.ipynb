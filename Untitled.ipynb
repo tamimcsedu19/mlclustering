{
 "cells": [
  {
   "cell_type": "code",
   "execution_count": 1,
   "metadata": {
    "collapsed": false
   },
   "outputs": [
    {
     "name": "stdout",
     "output_type": "stream",
     "text": [
      "Data point 2 changed the most; it changed 2 times\n"
     ]
    }
   ],
   "source": [
    "import math\n",
    "import statistics\n",
    "import copy\n",
    "\n",
    "centroids = [(2, 2), (-2, -2)]\n",
    "data_points = [ \\\n",
    "(-1.88, 2.05), \\\n",
    "(-0.71, 0.42), \\\n",
    "(2.41, -0.67), \\\n",
    "(1.85, -3.80), \\\n",
    "(-3.69, -1.33)]\n",
    "\n",
    "belongs_to = [0] * len(data_points)\n",
    "\n",
    "# counts how many times a point has changed to answer\n",
    "# Coursera's quiz question\n",
    "changed = [0] * len(data_points)\n",
    "\n",
    "def distance(data_point, centroid):\n",
    "\treturn math.sqrt(sum([(data_point[i] - centroid[i]) ** 2 for i in range(len(data_point))]))\n",
    "\n",
    "def find_closest_centroid_index_to_data_point(i):\n",
    "\tmin_distance = float(\"+inf\")\n",
    "\tmin_index = 0\n",
    "\tfor j in range(len(centroids)):\n",
    "\t\tdist = distance(data_points[i], centroids[j])\n",
    "\t\tif dist < min_distance:\n",
    "\t\t\tmin_distance = dist\n",
    "\t\t\tmin_index = j\n",
    "\treturn min_index\n",
    "\n",
    "def assign_data_point_to_nearest_centroid(i):\n",
    "\tclosest_centroid_index = find_closest_centroid_index_to_data_point(i)\n",
    "\tif belongs_to[i] != closest_centroid_index:\n",
    "\t\tchanged[i] += 1\n",
    "\tbelongs_to[i] = closest_centroid_index\n",
    "\n",
    "def assign_data_points_to_nearest_centroid():\n",
    "\tfor i in range(len(data_points)):\n",
    "\t\tassign_data_point_to_nearest_centroid(i)\n",
    "\n",
    "converged = False\n",
    "\n",
    "def adjust_centers():\n",
    "\tbefore_update_centroids = copy.deepcopy(centroids)\n",
    "\tfor i in range(len(centroids)):\n",
    "\t\tdata_points_in_this_centroid = [data_points[j] for j in range(len(data_points)) if belongs_to[j] == i]\n",
    "\t\tx_mean = statistics.mean(map(lambda x: x[0], data_points_in_this_centroid))\n",
    "\t\ty_mean = statistics.mean(map(lambda x: x[1], data_points_in_this_centroid))\n",
    "\t\tcentroids[i] = (x_mean, y_mean)\n",
    "\tglobal converged\n",
    "\tif centroids == before_update_centroids:\n",
    "\t\tconverged = True\n",
    "\n",
    "def k_means():\n",
    "\twhile not converged:\n",
    "\t\tassign_data_points_to_nearest_centroid()\n",
    "\t\tadjust_centers()\n",
    "\n",
    "def show_most_changed_data_point():\n",
    "\tmax_index = 0\n",
    "\tfor i in range(len(changed)):\n",
    "\t\tif changed[max_index] < changed[i]:\n",
    "\t\t\tmax_index = i\n",
    "\tprint(\"Data point {} changed the most; it changed {} times\".format(max_index + 1, changed[max_index]))\n",
    "\n",
    "if __name__ == \"__main__\":\n",
    "\tk_means()\n",
    "\tshow_most_changed_data_point()"
   ]
  },
  {
   "cell_type": "code",
   "execution_count": null,
   "metadata": {
    "collapsed": true
   },
   "outputs": [],
   "source": []
  }
 ],
 "metadata": {
  "kernelspec": {
   "display_name": "Python [Root]",
   "language": "python",
   "name": "Python [Root]"
  },
  "language_info": {
   "codemirror_mode": {
    "name": "ipython",
    "version": 3
   },
   "file_extension": ".py",
   "mimetype": "text/x-python",
   "name": "python",
   "nbconvert_exporter": "python",
   "pygments_lexer": "ipython3",
   "version": "3.5.2"
  }
 },
 "nbformat": 4,
 "nbformat_minor": 0
}
