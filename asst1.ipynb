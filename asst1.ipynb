{
 "cells": [
  {
   "cell_type": "code",
   "execution_count": 1,
   "metadata": {
    "collapsed": false
   },
   "outputs": [
    {
     "name": "stderr",
     "output_type": "stream",
     "text": [
      "A newer version of GraphLab Create (v2.0.1) is available! Your current version is v1.10.1.\n",
      "\n",
      "You can use pip to upgrade the graphlab-create package. For more information see https://dato.com/products/create/upgrade.\n"
     ]
    },
    {
     "name": "stdout",
     "output_type": "stream",
     "text": [
      "This non-commercial license of GraphLab Create is assigned to tamim_1382@yahoo.com and will expire on September 24, 2016. For commercial licensing options, visit https://turi.com/buy/.\n"
     ]
    },
    {
     "name": "stderr",
     "output_type": "stream",
     "text": [
      "[INFO] graphlab.cython.cy_server: GraphLab Create v1.10.1 started. Logging: /tmp/graphlab_server_1468230590.log\n",
      "[INFO] sframe.cython.cy_server: SFrame v1.10.1 started. Logging /tmp/sframe_server_1468230594.log\n"
     ]
    }
   ],
   "source": [
    "import graphlab\n",
    "import sframe    # see below for install instruction\n",
    "import sklearn\n",
    "import matplotlib.pyplot as plt          # plotting\n",
    "import numpy as np                       # dense matrices\n",
    "from scipy.sparse import csr_matrix      # sparse matrices\n",
    "%matplotlib inline"
   ]
  },
  {
   "cell_type": "code",
   "execution_count": 3,
   "metadata": {
    "collapsed": false
   },
   "outputs": [],
   "source": [
    "wiki = sframe.SFrame('people_wiki.gl/')\n",
    "wiki = wiki.add_row_number()"
   ]
  },
  {
   "cell_type": "code",
   "execution_count": 4,
   "metadata": {
    "collapsed": false
   },
   "outputs": [],
   "source": [
    "def load_sparse_csr(filename):\n",
    "    loader = np.load(filename)\n",
    "    print(loader.files)\n",
    "    data = loader['data']\n",
    "    indices = loader['indices']\n",
    "    indptr = loader['indptr']\n",
    "    shape = loader['shape']\n",
    "    \n",
    "    return csr_matrix( (data, indices, indptr), shape)"
   ]
  },
  {
   "cell_type": "code",
   "execution_count": 5,
   "metadata": {
    "collapsed": false
   },
   "outputs": [
    {
     "name": "stdout",
     "output_type": "stream",
     "text": [
      "['indices', 'indptr', 'shape', 'data']\n"
     ]
    }
   ],
   "source": [
    "word_count = load_sparse_csr('people_wiki_word_count.npz')"
   ]
  },
  {
   "cell_type": "code",
   "execution_count": 6,
   "metadata": {
    "collapsed": false
   },
   "outputs": [],
   "source": [
    "map_index_to_word = sframe.SFrame('people_wiki_map_index_to_word.gl/')"
   ]
  },
  {
   "cell_type": "code",
   "execution_count": 7,
   "metadata": {
    "collapsed": false
   },
   "outputs": [
    {
     "data": {
      "text/plain": [
       "NearestNeighbors(algorithm='brute', leaf_size=30, metric='euclidean',\n",
       "         metric_params=None, n_jobs=1, n_neighbors=5, p=2, radius=1.0)"
      ]
     },
     "execution_count": 7,
     "metadata": {},
     "output_type": "execute_result"
    }
   ],
   "source": [
    "from sklearn.neighbors import NearestNeighbors\n",
    "\n",
    "model = NearestNeighbors(metric='euclidean', algorithm='brute')\n",
    "model.fit(word_count)"
   ]
  },
  {
   "cell_type": "code",
   "execution_count": 8,
   "metadata": {
    "collapsed": false
   },
   "outputs": [
    {
     "data": {
      "text/html": [
       "<div style=\"max-height:1000px;max-width:1500px;overflow:auto;\"><table frame=\"box\" rules=\"cols\">\n",
       "    <tr>\n",
       "        <th style=\"padding-left: 1em; padding-right: 1em; text-align: center\">id</th>\n",
       "        <th style=\"padding-left: 1em; padding-right: 1em; text-align: center\">URI</th>\n",
       "        <th style=\"padding-left: 1em; padding-right: 1em; text-align: center\">name</th>\n",
       "        <th style=\"padding-left: 1em; padding-right: 1em; text-align: center\">text</th>\n",
       "    </tr>\n",
       "    <tr>\n",
       "        <td style=\"padding-left: 1em; padding-right: 1em; text-align: center; vertical-align: top\">35817</td>\n",
       "        <td style=\"padding-left: 1em; padding-right: 1em; text-align: center; vertical-align: top\">&lt;http://dbpedia.org/resou<br>rce/Barack_Obama&gt; ...</td>\n",
       "        <td style=\"padding-left: 1em; padding-right: 1em; text-align: center; vertical-align: top\">Barack Obama</td>\n",
       "        <td style=\"padding-left: 1em; padding-right: 1em; text-align: center; vertical-align: top\">barack hussein obama ii<br>brk husen bm born august ...</td>\n",
       "    </tr>\n",
       "</table>\n",
       "[? rows x 4 columns]<br/>Note: Only the head of the SFrame is printed. This SFrame is lazily evaluated.<br/>You can use sf.materialize() to force materialization.\n",
       "</div>"
      ],
      "text/plain": [
       "Columns:\n",
       "\tid\tint\n",
       "\tURI\tstr\n",
       "\tname\tstr\n",
       "\ttext\tstr\n",
       "\n",
       "Rows: Unknown\n",
       "\n",
       "Data:\n",
       "+-------+-------------------------------+--------------+\n",
       "|   id  |              URI              |     name     |\n",
       "+-------+-------------------------------+--------------+\n",
       "| 35817 | <http://dbpedia.org/resour... | Barack Obama |\n",
       "+-------+-------------------------------+--------------+\n",
       "+-------------------------------+\n",
       "|              text             |\n",
       "+-------------------------------+\n",
       "| barack hussein obama ii br... |\n",
       "+-------------------------------+\n",
       "[? rows x 4 columns]\n",
       "Note: Only the head of the SFrame is printed. This SFrame is lazily evaluated.\n",
       "You can use sf.materialize() to force materialization."
      ]
     },
     "execution_count": 8,
     "metadata": {},
     "output_type": "execute_result"
    }
   ],
   "source": [
    "wiki[wiki['name'] == 'Barack Obama']"
   ]
  },
  {
   "cell_type": "code",
   "execution_count": 9,
   "metadata": {
    "collapsed": false
   },
   "outputs": [],
   "source": [
    "distances, indices = model.kneighbors(word_count[35817], n_neighbors=10) # 1st arg: word count vector"
   ]
  },
  {
   "cell_type": "code",
   "execution_count": 10,
   "metadata": {
    "collapsed": false
   },
   "outputs": [
    {
     "name": "stdout",
     "output_type": "stream",
     "text": [
      "+-------+----------------------------+---------------+\n",
      "|   id  |            name            |    distance   |\n",
      "+-------+----------------------------+---------------+\n",
      "| 35817 |        Barack Obama        |      0.0      |\n",
      "| 24478 |         Joe Biden          | 33.0756708171 |\n",
      "| 28447 |       George W. Bush       | 34.3947670438 |\n",
      "| 35357 |      Lawrence Summers      | 36.1524549651 |\n",
      "| 14754 |        Mitt Romney         | 36.1662826401 |\n",
      "| 13229 |      Francisco Barrio      | 36.3318042492 |\n",
      "| 31423 |       Walter Mondale       | 36.4005494464 |\n",
      "| 22745 | Wynn Normington Hugh-Jones | 36.4965751818 |\n",
      "| 36364 |         Don Bonker         |  36.633318168 |\n",
      "|  9210 |        Andy Anstett        | 36.9594372252 |\n",
      "+-------+----------------------------+---------------+\n",
      "[10 rows x 3 columns]\n",
      "\n"
     ]
    }
   ],
   "source": [
    "neighbors = sframe.SFrame({'distance':distances.flatten(), 'id':indices.flatten()})\n",
    "print wiki.join(neighbors, on='id').sort('distance')[['id','name','distance']]"
   ]
  },
  {
   "cell_type": "code",
   "execution_count": 11,
   "metadata": {
    "collapsed": false
   },
   "outputs": [],
   "source": [
    "def unpack_dict(matrix, map_index_to_word):\n",
    "    table = list(map_index_to_word.sort('index')['category'])\n",
    "    data = matrix.data\n",
    "    indices = matrix.indices\n",
    "    indptr = matrix.indptr\n",
    "    \n",
    "    num_doc = matrix.shape[0]\n",
    "\n",
    "    return [{k:v for k,v in zip([table[word_id] for word_id in indices[indptr[i]:indptr[i+1]] ],\n",
    "                                 data[indptr[i]:indptr[i+1]].tolist())} \\\n",
    "               for i in xrange(num_doc) ]\n",
    "\n",
    "wiki['word_count'] = unpack_dict(word_count, map_index_to_word)"
   ]
  },
  {
   "cell_type": "code",
   "execution_count": 12,
   "metadata": {
    "collapsed": false
   },
   "outputs": [
    {
     "name": "stdout",
     "output_type": "stream",
     "text": [
      "+-------+-------+\n",
      "|  word | count |\n",
      "+-------+-------+\n",
      "|  the  |   40  |\n",
      "|   in  |   30  |\n",
      "|  and  |   21  |\n",
      "|   of  |   18  |\n",
      "|   to  |   14  |\n",
      "|  his  |   11  |\n",
      "| obama |   9   |\n",
      "|  act  |   8   |\n",
      "|   he  |   7   |\n",
      "|   a   |   7   |\n",
      "+-------+-------+\n",
      "[273 rows x 2 columns]\n",
      "Note: Only the head of the SFrame is printed.\n",
      "You can use print_rows(num_rows=m, num_columns=n) to print more rows and columns.\n",
      "+-----------+-------+\n",
      "|    word   | count |\n",
      "+-----------+-------+\n",
      "|    the    |   36  |\n",
      "|     of    |   24  |\n",
      "|    and    |   18  |\n",
      "|     in    |   17  |\n",
      "|     he    |   10  |\n",
      "|     to    |   9   |\n",
      "| chihuahua |   7   |\n",
      "|     a     |   6   |\n",
      "|  governor |   6   |\n",
      "|     as    |   5   |\n",
      "+-----------+-------+\n",
      "[225 rows x 2 columns]\n",
      "Note: Only the head of the SFrame is printed.\n",
      "You can use print_rows(num_rows=m, num_columns=n) to print more rows and columns.\n"
     ]
    }
   ],
   "source": [
    "def top_words(name):\n",
    "    \"\"\"\n",
    "    Get a table of the most frequent words in the given person's wikipedia page.\n",
    "    \"\"\"\n",
    "    row = wiki[wiki['name'] == name]\n",
    "    word_count_table = row[['word_count']].stack('word_count', new_column_name=['word','count'])\n",
    "    return word_count_table.sort('count', ascending=False)\n",
    "\n",
    "obama_words = top_words('Barack Obama')\n",
    "print obama_words\n",
    "\n",
    "barrio_words = top_words('Francisco Barrio')\n",
    "print barrio_words"
   ]
  },
  {
   "cell_type": "code",
   "execution_count": 13,
   "metadata": {
    "collapsed": true
   },
   "outputs": [],
   "source": [
    "combined_words = obama_words.join(barrio_words, on='word')"
   ]
  },
  {
   "cell_type": "code",
   "execution_count": 14,
   "metadata": {
    "collapsed": true
   },
   "outputs": [],
   "source": [
    "combined_words = combined_words.rename({'count':'Obama', 'count.1':'Barrio'})"
   ]
  },
  {
   "cell_type": "code",
   "execution_count": 15,
   "metadata": {
    "collapsed": false
   },
   "outputs": [
    {
     "data": {
      "text/html": [
       "<div style=\"max-height:1000px;max-width:1500px;overflow:auto;\"><table frame=\"box\" rules=\"cols\">\n",
       "    <tr>\n",
       "        <th style=\"padding-left: 1em; padding-right: 1em; text-align: center\">word</th>\n",
       "        <th style=\"padding-left: 1em; padding-right: 1em; text-align: center\">Obama</th>\n",
       "        <th style=\"padding-left: 1em; padding-right: 1em; text-align: center\">Barrio</th>\n",
       "    </tr>\n",
       "    <tr>\n",
       "        <td style=\"padding-left: 1em; padding-right: 1em; text-align: center; vertical-align: top\">the</td>\n",
       "        <td style=\"padding-left: 1em; padding-right: 1em; text-align: center; vertical-align: top\">40</td>\n",
       "        <td style=\"padding-left: 1em; padding-right: 1em; text-align: center; vertical-align: top\">36</td>\n",
       "    </tr>\n",
       "    <tr>\n",
       "        <td style=\"padding-left: 1em; padding-right: 1em; text-align: center; vertical-align: top\">in</td>\n",
       "        <td style=\"padding-left: 1em; padding-right: 1em; text-align: center; vertical-align: top\">30</td>\n",
       "        <td style=\"padding-left: 1em; padding-right: 1em; text-align: center; vertical-align: top\">17</td>\n",
       "    </tr>\n",
       "    <tr>\n",
       "        <td style=\"padding-left: 1em; padding-right: 1em; text-align: center; vertical-align: top\">and</td>\n",
       "        <td style=\"padding-left: 1em; padding-right: 1em; text-align: center; vertical-align: top\">21</td>\n",
       "        <td style=\"padding-left: 1em; padding-right: 1em; text-align: center; vertical-align: top\">18</td>\n",
       "    </tr>\n",
       "    <tr>\n",
       "        <td style=\"padding-left: 1em; padding-right: 1em; text-align: center; vertical-align: top\">of</td>\n",
       "        <td style=\"padding-left: 1em; padding-right: 1em; text-align: center; vertical-align: top\">18</td>\n",
       "        <td style=\"padding-left: 1em; padding-right: 1em; text-align: center; vertical-align: top\">24</td>\n",
       "    </tr>\n",
       "    <tr>\n",
       "        <td style=\"padding-left: 1em; padding-right: 1em; text-align: center; vertical-align: top\">to</td>\n",
       "        <td style=\"padding-left: 1em; padding-right: 1em; text-align: center; vertical-align: top\">14</td>\n",
       "        <td style=\"padding-left: 1em; padding-right: 1em; text-align: center; vertical-align: top\">9</td>\n",
       "    </tr>\n",
       "    <tr>\n",
       "        <td style=\"padding-left: 1em; padding-right: 1em; text-align: center; vertical-align: top\">his</td>\n",
       "        <td style=\"padding-left: 1em; padding-right: 1em; text-align: center; vertical-align: top\">11</td>\n",
       "        <td style=\"padding-left: 1em; padding-right: 1em; text-align: center; vertical-align: top\">5</td>\n",
       "    </tr>\n",
       "    <tr>\n",
       "        <td style=\"padding-left: 1em; padding-right: 1em; text-align: center; vertical-align: top\">he</td>\n",
       "        <td style=\"padding-left: 1em; padding-right: 1em; text-align: center; vertical-align: top\">7</td>\n",
       "        <td style=\"padding-left: 1em; padding-right: 1em; text-align: center; vertical-align: top\">10</td>\n",
       "    </tr>\n",
       "    <tr>\n",
       "        <td style=\"padding-left: 1em; padding-right: 1em; text-align: center; vertical-align: top\">a</td>\n",
       "        <td style=\"padding-left: 1em; padding-right: 1em; text-align: center; vertical-align: top\">7</td>\n",
       "        <td style=\"padding-left: 1em; padding-right: 1em; text-align: center; vertical-align: top\">6</td>\n",
       "    </tr>\n",
       "    <tr>\n",
       "        <td style=\"padding-left: 1em; padding-right: 1em; text-align: center; vertical-align: top\">as</td>\n",
       "        <td style=\"padding-left: 1em; padding-right: 1em; text-align: center; vertical-align: top\">6</td>\n",
       "        <td style=\"padding-left: 1em; padding-right: 1em; text-align: center; vertical-align: top\">5</td>\n",
       "    </tr>\n",
       "    <tr>\n",
       "        <td style=\"padding-left: 1em; padding-right: 1em; text-align: center; vertical-align: top\">was</td>\n",
       "        <td style=\"padding-left: 1em; padding-right: 1em; text-align: center; vertical-align: top\">5</td>\n",
       "        <td style=\"padding-left: 1em; padding-right: 1em; text-align: center; vertical-align: top\">4</td>\n",
       "    </tr>\n",
       "</table>\n",
       "[56 rows x 3 columns]<br/>Note: Only the head of the SFrame is printed.<br/>You can use print_rows(num_rows=m, num_columns=n) to print more rows and columns.\n",
       "</div>"
      ],
      "text/plain": [
       "Columns:\n",
       "\tword\tstr\n",
       "\tObama\tint\n",
       "\tBarrio\tint\n",
       "\n",
       "Rows: 56\n",
       "\n",
       "Data:\n",
       "+------+-------+--------+\n",
       "| word | Obama | Barrio |\n",
       "+------+-------+--------+\n",
       "| the  |   40  |   36   |\n",
       "|  in  |   30  |   17   |\n",
       "| and  |   21  |   18   |\n",
       "|  of  |   18  |   24   |\n",
       "|  to  |   14  |   9    |\n",
       "| his  |   11  |   5    |\n",
       "|  he  |   7   |   10   |\n",
       "|  a   |   7   |   6    |\n",
       "|  as  |   6   |   5    |\n",
       "| was  |   5   |   4    |\n",
       "+------+-------+--------+\n",
       "[56 rows x 3 columns]\n",
       "Note: Only the head of the SFrame is printed.\n",
       "You can use print_rows(num_rows=m, num_columns=n) to print more rows and columns."
      ]
     },
     "execution_count": 15,
     "metadata": {},
     "output_type": "execute_result"
    }
   ],
   "source": [
    "combined_words.sort('Obama', ascending=False)"
   ]
  },
  {
   "cell_type": "code",
   "execution_count": 16,
   "metadata": {
    "collapsed": true
   },
   "outputs": [],
   "source": [
    "common_words = set(combined_words[0:5]['word'])  # YOUR CODE HERE\n",
    "\n",
    "def has_top_words(word_count_vector):\n",
    "    # extract the keys of word_count_vector and convert it to a set\n",
    "    unique_words = word_count_vector.keys()   # YOUR CODE HERE\n",
    "    # return True if common_words is a subset of unique_words\n",
    "    # return False otherwise\n",
    "    return common_words.issubset(unique_words)  # YOUR CODE HERE\n",
    "\n",
    "wiki['has_top_words'] = wiki['word_count'].apply(has_top_words)\n",
    "\n",
    "# use has_top_words column to answer the quiz question\n",
    "contains = wiki['has_top_words'].sum() # YOUR CODE HERE"
   ]
  },
  {
   "cell_type": "code",
   "execution_count": 17,
   "metadata": {
    "collapsed": false
   },
   "outputs": [
    {
     "name": "stdout",
     "output_type": "stream",
     "text": [
      "Output from your function: True\n",
      "Correct output: True\n",
      "Also check the length of unique_words. It should be 167\n",
      "Output from your function: False\n",
      "Correct output: False\n",
      "Also check the length of unique_words. It should be 188\n"
     ]
    }
   ],
   "source": [
    "print 'Output from your function:', has_top_words(wiki[32]['word_count'])\n",
    "print 'Correct output: True'\n",
    "print 'Also check the length of unique_words. It should be 167'\n",
    "\n",
    "print 'Output from your function:', has_top_words(wiki[33]['word_count'])\n",
    "print 'Correct output: False'\n",
    "print 'Also check the length of unique_words. It should be 188'"
   ]
  },
  {
   "cell_type": "code",
   "execution_count": 18,
   "metadata": {
    "collapsed": false
   },
   "outputs": [
    {
     "name": "stdout",
     "output_type": "stream",
     "text": [
      "56066\n"
     ]
    }
   ],
   "source": [
    "print contains"
   ]
  },
  {
   "cell_type": "code",
   "execution_count": 19,
   "metadata": {
    "collapsed": false
   },
   "outputs": [],
   "source": [
    "threes = wiki.filter_by(['Barack Obama','Joe Biden','George W. Bush'], 'name')"
   ]
  },
  {
   "cell_type": "code",
   "execution_count": 48,
   "metadata": {
    "collapsed": false
   },
   "outputs": [],
   "source": [
    "import numpy as np\n",
    "import pandas as pd\n",
    "l = list(threes['word_count'])\n",
    "mat = pd.DataFrame(l).fillna(0)\n",
    "\n",
    "\n",
    "row2 = wiki[wiki['name'] == 'Barack Obama']\n",
    "row1 = wiki[wiki['name'] == 'Joe Biden']\n",
    "row3 = wiki[wiki['name'] == 'George W. Bush']"
   ]
  },
  {
   "cell_type": "code",
   "execution_count": 50,
   "metadata": {
    "collapsed": false,
    "scrolled": true
   },
   "outputs": [
    {
     "name": "stdout",
     "output_type": "stream",
     "text": [
      "123.29745601\n",
      "134.426722219\n",
      "128.840419901\n"
     ]
    }
   ],
   "source": [
    "print graphlab.toolkits.distances.euclidean(row1['word_count'][0], row2['tf_idf'][0])\n",
    "print graphlab.toolkits.distances.euclidean(row1['word_count'][0], row3['tf_idf'][0])\n",
    "print graphlab.toolkits.distances.euclidean(row2['tf_idf'][0], row3['tf_idf'][0])"
   ]
  },
  {
   "cell_type": "code",
   "execution_count": 21,
   "metadata": {
    "collapsed": false
   },
   "outputs": [],
   "source": [
    "l = list(threes['word_count'])"
   ]
  },
  {
   "cell_type": "code",
   "execution_count": 22,
   "metadata": {
    "collapsed": false
   },
   "outputs": [
    {
     "data": {
      "text/plain": [
       "array([[  0.        ,  32.75667871,  33.07567082],\n",
       "       [ 32.75667871,   0.        ,  34.39476704],\n",
       "       [ 33.07567082,  34.39476704,   0.        ]])"
      ]
     },
     "execution_count": 22,
     "metadata": {},
     "output_type": "execute_result"
    }
   ],
   "source": [
    "sklearn.metrics.pairwise.euclidean_distances(mat)"
   ]
  },
  {
   "cell_type": "code",
   "execution_count": 23,
   "metadata": {
    "collapsed": true
   },
   "outputs": [],
   "source": [
    "bush_words = top_words('George W. Bush')"
   ]
  },
  {
   "cell_type": "code",
   "execution_count": 24,
   "metadata": {
    "collapsed": false
   },
   "outputs": [
    {
     "data": {
      "text/html": [
       "<div style=\"max-height:1000px;max-width:1500px;overflow:auto;\"><table frame=\"box\" rules=\"cols\">\n",
       "    <tr>\n",
       "        <th style=\"padding-left: 1em; padding-right: 1em; text-align: center\">word</th>\n",
       "        <th style=\"padding-left: 1em; padding-right: 1em; text-align: center\">count</th>\n",
       "    </tr>\n",
       "    <tr>\n",
       "        <td style=\"padding-left: 1em; padding-right: 1em; text-align: center; vertical-align: top\">the</td>\n",
       "        <td style=\"padding-left: 1em; padding-right: 1em; text-align: center; vertical-align: top\">39</td>\n",
       "    </tr>\n",
       "    <tr>\n",
       "        <td style=\"padding-left: 1em; padding-right: 1em; text-align: center; vertical-align: top\">in</td>\n",
       "        <td style=\"padding-left: 1em; padding-right: 1em; text-align: center; vertical-align: top\">22</td>\n",
       "    </tr>\n",
       "    <tr>\n",
       "        <td style=\"padding-left: 1em; padding-right: 1em; text-align: center; vertical-align: top\">of</td>\n",
       "        <td style=\"padding-left: 1em; padding-right: 1em; text-align: center; vertical-align: top\">14</td>\n",
       "    </tr>\n",
       "    <tr>\n",
       "        <td style=\"padding-left: 1em; padding-right: 1em; text-align: center; vertical-align: top\">and</td>\n",
       "        <td style=\"padding-left: 1em; padding-right: 1em; text-align: center; vertical-align: top\">14</td>\n",
       "    </tr>\n",
       "    <tr>\n",
       "        <td style=\"padding-left: 1em; padding-right: 1em; text-align: center; vertical-align: top\">bush</td>\n",
       "        <td style=\"padding-left: 1em; padding-right: 1em; text-align: center; vertical-align: top\">12</td>\n",
       "    </tr>\n",
       "    <tr>\n",
       "        <td style=\"padding-left: 1em; padding-right: 1em; text-align: center; vertical-align: top\">to</td>\n",
       "        <td style=\"padding-left: 1em; padding-right: 1em; text-align: center; vertical-align: top\">11</td>\n",
       "    </tr>\n",
       "    <tr>\n",
       "        <td style=\"padding-left: 1em; padding-right: 1em; text-align: center; vertical-align: top\">he</td>\n",
       "        <td style=\"padding-left: 1em; padding-right: 1em; text-align: center; vertical-align: top\">8</td>\n",
       "    </tr>\n",
       "    <tr>\n",
       "        <td style=\"padding-left: 1em; padding-right: 1em; text-align: center; vertical-align: top\">his</td>\n",
       "        <td style=\"padding-left: 1em; padding-right: 1em; text-align: center; vertical-align: top\">6</td>\n",
       "    </tr>\n",
       "    <tr>\n",
       "        <td style=\"padding-left: 1em; padding-right: 1em; text-align: center; vertical-align: top\">as</td>\n",
       "        <td style=\"padding-left: 1em; padding-right: 1em; text-align: center; vertical-align: top\">6</td>\n",
       "    </tr>\n",
       "    <tr>\n",
       "        <td style=\"padding-left: 1em; padding-right: 1em; text-align: center; vertical-align: top\">president</td>\n",
       "        <td style=\"padding-left: 1em; padding-right: 1em; text-align: center; vertical-align: top\">6</td>\n",
       "    </tr>\n",
       "</table>\n",
       "[288 rows x 2 columns]<br/>Note: Only the head of the SFrame is printed.<br/>You can use print_rows(num_rows=m, num_columns=n) to print more rows and columns.\n",
       "</div>"
      ],
      "text/plain": [
       "Columns:\n",
       "\tword\tstr\n",
       "\tcount\tint\n",
       "\n",
       "Rows: 288\n",
       "\n",
       "Data:\n",
       "+-----------+-------+\n",
       "|    word   | count |\n",
       "+-----------+-------+\n",
       "|    the    |   39  |\n",
       "|     in    |   22  |\n",
       "|     of    |   14  |\n",
       "|    and    |   14  |\n",
       "|    bush   |   12  |\n",
       "|     to    |   11  |\n",
       "|     he    |   8   |\n",
       "|    his    |   6   |\n",
       "|     as    |   6   |\n",
       "| president |   6   |\n",
       "+-----------+-------+\n",
       "[288 rows x 2 columns]\n",
       "Note: Only the head of the SFrame is printed.\n",
       "You can use print_rows(num_rows=m, num_columns=n) to print more rows and columns."
      ]
     },
     "execution_count": 24,
     "metadata": {},
     "output_type": "execute_result"
    }
   ],
   "source": [
    "bush_words"
   ]
  },
  {
   "cell_type": "code",
   "execution_count": 25,
   "metadata": {
    "collapsed": true
   },
   "outputs": [],
   "source": [
    "combined_words = obama_words.join(bush_words, on='word')"
   ]
  },
  {
   "cell_type": "code",
   "execution_count": 26,
   "metadata": {
    "collapsed": false
   },
   "outputs": [
    {
     "data": {
      "text/html": [
       "<div style=\"max-height:1000px;max-width:1500px;overflow:auto;\"><table frame=\"box\" rules=\"cols\">\n",
       "    <tr>\n",
       "        <th style=\"padding-left: 1em; padding-right: 1em; text-align: center\">word</th>\n",
       "        <th style=\"padding-left: 1em; padding-right: 1em; text-align: center\">count</th>\n",
       "        <th style=\"padding-left: 1em; padding-right: 1em; text-align: center\">count.1</th>\n",
       "    </tr>\n",
       "    <tr>\n",
       "        <td style=\"padding-left: 1em; padding-right: 1em; text-align: center; vertical-align: top\">the</td>\n",
       "        <td style=\"padding-left: 1em; padding-right: 1em; text-align: center; vertical-align: top\">40</td>\n",
       "        <td style=\"padding-left: 1em; padding-right: 1em; text-align: center; vertical-align: top\">39</td>\n",
       "    </tr>\n",
       "    <tr>\n",
       "        <td style=\"padding-left: 1em; padding-right: 1em; text-align: center; vertical-align: top\">in</td>\n",
       "        <td style=\"padding-left: 1em; padding-right: 1em; text-align: center; vertical-align: top\">30</td>\n",
       "        <td style=\"padding-left: 1em; padding-right: 1em; text-align: center; vertical-align: top\">22</td>\n",
       "    </tr>\n",
       "    <tr>\n",
       "        <td style=\"padding-left: 1em; padding-right: 1em; text-align: center; vertical-align: top\">of</td>\n",
       "        <td style=\"padding-left: 1em; padding-right: 1em; text-align: center; vertical-align: top\">18</td>\n",
       "        <td style=\"padding-left: 1em; padding-right: 1em; text-align: center; vertical-align: top\">14</td>\n",
       "    </tr>\n",
       "    <tr>\n",
       "        <td style=\"padding-left: 1em; padding-right: 1em; text-align: center; vertical-align: top\">and</td>\n",
       "        <td style=\"padding-left: 1em; padding-right: 1em; text-align: center; vertical-align: top\">21</td>\n",
       "        <td style=\"padding-left: 1em; padding-right: 1em; text-align: center; vertical-align: top\">14</td>\n",
       "    </tr>\n",
       "    <tr>\n",
       "        <td style=\"padding-left: 1em; padding-right: 1em; text-align: center; vertical-align: top\">to</td>\n",
       "        <td style=\"padding-left: 1em; padding-right: 1em; text-align: center; vertical-align: top\">14</td>\n",
       "        <td style=\"padding-left: 1em; padding-right: 1em; text-align: center; vertical-align: top\">11</td>\n",
       "    </tr>\n",
       "    <tr>\n",
       "        <td style=\"padding-left: 1em; padding-right: 1em; text-align: center; vertical-align: top\">he</td>\n",
       "        <td style=\"padding-left: 1em; padding-right: 1em; text-align: center; vertical-align: top\">7</td>\n",
       "        <td style=\"padding-left: 1em; padding-right: 1em; text-align: center; vertical-align: top\">8</td>\n",
       "    </tr>\n",
       "    <tr>\n",
       "        <td style=\"padding-left: 1em; padding-right: 1em; text-align: center; vertical-align: top\">his</td>\n",
       "        <td style=\"padding-left: 1em; padding-right: 1em; text-align: center; vertical-align: top\">11</td>\n",
       "        <td style=\"padding-left: 1em; padding-right: 1em; text-align: center; vertical-align: top\">6</td>\n",
       "    </tr>\n",
       "    <tr>\n",
       "        <td style=\"padding-left: 1em; padding-right: 1em; text-align: center; vertical-align: top\">as</td>\n",
       "        <td style=\"padding-left: 1em; padding-right: 1em; text-align: center; vertical-align: top\">6</td>\n",
       "        <td style=\"padding-left: 1em; padding-right: 1em; text-align: center; vertical-align: top\">6</td>\n",
       "    </tr>\n",
       "    <tr>\n",
       "        <td style=\"padding-left: 1em; padding-right: 1em; text-align: center; vertical-align: top\">president</td>\n",
       "        <td style=\"padding-left: 1em; padding-right: 1em; text-align: center; vertical-align: top\">4</td>\n",
       "        <td style=\"padding-left: 1em; padding-right: 1em; text-align: center; vertical-align: top\">6</td>\n",
       "    </tr>\n",
       "    <tr>\n",
       "        <td style=\"padding-left: 1em; padding-right: 1em; text-align: center; vertical-align: top\">a</td>\n",
       "        <td style=\"padding-left: 1em; padding-right: 1em; text-align: center; vertical-align: top\">7</td>\n",
       "        <td style=\"padding-left: 1em; padding-right: 1em; text-align: center; vertical-align: top\">6</td>\n",
       "    </tr>\n",
       "</table>\n",
       "[86 rows x 3 columns]<br/>Note: Only the head of the SFrame is printed.<br/>You can use print_rows(num_rows=m, num_columns=n) to print more rows and columns.\n",
       "</div>"
      ],
      "text/plain": [
       "Columns:\n",
       "\tword\tstr\n",
       "\tcount\tint\n",
       "\tcount.1\tint\n",
       "\n",
       "Rows: 86\n",
       "\n",
       "Data:\n",
       "+-----------+-------+---------+\n",
       "|    word   | count | count.1 |\n",
       "+-----------+-------+---------+\n",
       "|    the    |   40  |    39   |\n",
       "|     in    |   30  |    22   |\n",
       "|     of    |   18  |    14   |\n",
       "|    and    |   21  |    14   |\n",
       "|     to    |   14  |    11   |\n",
       "|     he    |   7   |    8    |\n",
       "|    his    |   11  |    6    |\n",
       "|     as    |   6   |    6    |\n",
       "| president |   4   |    6    |\n",
       "|     a     |   7   |    6    |\n",
       "+-----------+-------+---------+\n",
       "[86 rows x 3 columns]\n",
       "Note: Only the head of the SFrame is printed.\n",
       "You can use print_rows(num_rows=m, num_columns=n) to print more rows and columns."
      ]
     },
     "execution_count": 26,
     "metadata": {},
     "output_type": "execute_result"
    }
   ],
   "source": [
    "combined_words"
   ]
  },
  {
   "cell_type": "code",
   "execution_count": 27,
   "metadata": {
    "collapsed": false
   },
   "outputs": [
    {
     "data": {
      "text/html": [
       "<div style=\"max-height:1000px;max-width:1500px;overflow:auto;\"><table frame=\"box\" rules=\"cols\">\n",
       "    <tr>\n",
       "        <th style=\"padding-left: 1em; padding-right: 1em; text-align: center\">word</th>\n",
       "        <th style=\"padding-left: 1em; padding-right: 1em; text-align: center\">count</th>\n",
       "        <th style=\"padding-left: 1em; padding-right: 1em; text-align: center\">count.1</th>\n",
       "    </tr>\n",
       "    <tr>\n",
       "        <td style=\"padding-left: 1em; padding-right: 1em; text-align: center; vertical-align: top\">the</td>\n",
       "        <td style=\"padding-left: 1em; padding-right: 1em; text-align: center; vertical-align: top\">40</td>\n",
       "        <td style=\"padding-left: 1em; padding-right: 1em; text-align: center; vertical-align: top\">39</td>\n",
       "    </tr>\n",
       "    <tr>\n",
       "        <td style=\"padding-left: 1em; padding-right: 1em; text-align: center; vertical-align: top\">in</td>\n",
       "        <td style=\"padding-left: 1em; padding-right: 1em; text-align: center; vertical-align: top\">30</td>\n",
       "        <td style=\"padding-left: 1em; padding-right: 1em; text-align: center; vertical-align: top\">22</td>\n",
       "    </tr>\n",
       "    <tr>\n",
       "        <td style=\"padding-left: 1em; padding-right: 1em; text-align: center; vertical-align: top\">and</td>\n",
       "        <td style=\"padding-left: 1em; padding-right: 1em; text-align: center; vertical-align: top\">21</td>\n",
       "        <td style=\"padding-left: 1em; padding-right: 1em; text-align: center; vertical-align: top\">14</td>\n",
       "    </tr>\n",
       "    <tr>\n",
       "        <td style=\"padding-left: 1em; padding-right: 1em; text-align: center; vertical-align: top\">of</td>\n",
       "        <td style=\"padding-left: 1em; padding-right: 1em; text-align: center; vertical-align: top\">18</td>\n",
       "        <td style=\"padding-left: 1em; padding-right: 1em; text-align: center; vertical-align: top\">14</td>\n",
       "    </tr>\n",
       "    <tr>\n",
       "        <td style=\"padding-left: 1em; padding-right: 1em; text-align: center; vertical-align: top\">to</td>\n",
       "        <td style=\"padding-left: 1em; padding-right: 1em; text-align: center; vertical-align: top\">14</td>\n",
       "        <td style=\"padding-left: 1em; padding-right: 1em; text-align: center; vertical-align: top\">11</td>\n",
       "    </tr>\n",
       "    <tr>\n",
       "        <td style=\"padding-left: 1em; padding-right: 1em; text-align: center; vertical-align: top\">his</td>\n",
       "        <td style=\"padding-left: 1em; padding-right: 1em; text-align: center; vertical-align: top\">11</td>\n",
       "        <td style=\"padding-left: 1em; padding-right: 1em; text-align: center; vertical-align: top\">6</td>\n",
       "    </tr>\n",
       "    <tr>\n",
       "        <td style=\"padding-left: 1em; padding-right: 1em; text-align: center; vertical-align: top\">act</td>\n",
       "        <td style=\"padding-left: 1em; padding-right: 1em; text-align: center; vertical-align: top\">8</td>\n",
       "        <td style=\"padding-left: 1em; padding-right: 1em; text-align: center; vertical-align: top\">3</td>\n",
       "    </tr>\n",
       "    <tr>\n",
       "        <td style=\"padding-left: 1em; padding-right: 1em; text-align: center; vertical-align: top\">he</td>\n",
       "        <td style=\"padding-left: 1em; padding-right: 1em; text-align: center; vertical-align: top\">7</td>\n",
       "        <td style=\"padding-left: 1em; padding-right: 1em; text-align: center; vertical-align: top\">8</td>\n",
       "    </tr>\n",
       "    <tr>\n",
       "        <td style=\"padding-left: 1em; padding-right: 1em; text-align: center; vertical-align: top\">a</td>\n",
       "        <td style=\"padding-left: 1em; padding-right: 1em; text-align: center; vertical-align: top\">7</td>\n",
       "        <td style=\"padding-left: 1em; padding-right: 1em; text-align: center; vertical-align: top\">6</td>\n",
       "    </tr>\n",
       "    <tr>\n",
       "        <td style=\"padding-left: 1em; padding-right: 1em; text-align: center; vertical-align: top\">as</td>\n",
       "        <td style=\"padding-left: 1em; padding-right: 1em; text-align: center; vertical-align: top\">6</td>\n",
       "        <td style=\"padding-left: 1em; padding-right: 1em; text-align: center; vertical-align: top\">6</td>\n",
       "    </tr>\n",
       "</table>\n",
       "[86 rows x 3 columns]<br/>Note: Only the head of the SFrame is printed.<br/>You can use print_rows(num_rows=m, num_columns=n) to print more rows and columns.\n",
       "</div>"
      ],
      "text/plain": [
       "Columns:\n",
       "\tword\tstr\n",
       "\tcount\tint\n",
       "\tcount.1\tint\n",
       "\n",
       "Rows: 86\n",
       "\n",
       "Data:\n",
       "+------+-------+---------+\n",
       "| word | count | count.1 |\n",
       "+------+-------+---------+\n",
       "| the  |   40  |    39   |\n",
       "|  in  |   30  |    22   |\n",
       "| and  |   21  |    14   |\n",
       "|  of  |   18  |    14   |\n",
       "|  to  |   14  |    11   |\n",
       "| his  |   11  |    6    |\n",
       "| act  |   8   |    3    |\n",
       "|  he  |   7   |    8    |\n",
       "|  a   |   7   |    6    |\n",
       "|  as  |   6   |    6    |\n",
       "+------+-------+---------+\n",
       "[86 rows x 3 columns]\n",
       "Note: Only the head of the SFrame is printed.\n",
       "You can use print_rows(num_rows=m, num_columns=n) to print more rows and columns."
      ]
     },
     "execution_count": 27,
     "metadata": {},
     "output_type": "execute_result"
    }
   ],
   "source": [
    "combined_words.sort('count', ascending=False)"
   ]
  },
  {
   "cell_type": "code",
   "execution_count": 28,
   "metadata": {
    "collapsed": false
   },
   "outputs": [
    {
     "name": "stdout",
     "output_type": "stream",
     "text": [
      "['indices', 'indptr', 'shape', 'data']\n"
     ]
    }
   ],
   "source": [
    "tf_idf = load_sparse_csr('people_wiki_tf_idf.npz')"
   ]
  },
  {
   "cell_type": "code",
   "execution_count": 29,
   "metadata": {
    "collapsed": true
   },
   "outputs": [],
   "source": [
    "wiki['tf_idf'] = unpack_dict(tf_idf, map_index_to_word)"
   ]
  },
  {
   "cell_type": "code",
   "execution_count": 30,
   "metadata": {
    "collapsed": false
   },
   "outputs": [
    {
     "data": {
      "text/html": [
       "<div style=\"max-height:1000px;max-width:1500px;overflow:auto;\"><table frame=\"box\" rules=\"cols\">\n",
       "    <tr>\n",
       "        <th style=\"padding-left: 1em; padding-right: 1em; text-align: center\">id</th>\n",
       "        <th style=\"padding-left: 1em; padding-right: 1em; text-align: center\">URI</th>\n",
       "        <th style=\"padding-left: 1em; padding-right: 1em; text-align: center\">name</th>\n",
       "        <th style=\"padding-left: 1em; padding-right: 1em; text-align: center\">text</th>\n",
       "        <th style=\"padding-left: 1em; padding-right: 1em; text-align: center\">word_count</th>\n",
       "    </tr>\n",
       "    <tr>\n",
       "        <td style=\"padding-left: 1em; padding-right: 1em; text-align: center; vertical-align: top\">0</td>\n",
       "        <td style=\"padding-left: 1em; padding-right: 1em; text-align: center; vertical-align: top\">&lt;http://dbpedia.org/resou<br>rce/Digby_Morrell&gt; ...</td>\n",
       "        <td style=\"padding-left: 1em; padding-right: 1em; text-align: center; vertical-align: top\">Digby Morrell</td>\n",
       "        <td style=\"padding-left: 1em; padding-right: 1em; text-align: center; vertical-align: top\">digby morrell born 10<br>october 1979 is a former ...</td>\n",
       "        <td style=\"padding-left: 1em; padding-right: 1em; text-align: center; vertical-align: top\">{'selection': 1,<br>'carltons': 1, 'being': ...</td>\n",
       "    </tr>\n",
       "    <tr>\n",
       "        <td style=\"padding-left: 1em; padding-right: 1em; text-align: center; vertical-align: top\">1</td>\n",
       "        <td style=\"padding-left: 1em; padding-right: 1em; text-align: center; vertical-align: top\">&lt;http://dbpedia.org/resou<br>rce/Alfred_J._Lewy&gt; ...</td>\n",
       "        <td style=\"padding-left: 1em; padding-right: 1em; text-align: center; vertical-align: top\">Alfred J. Lewy</td>\n",
       "        <td style=\"padding-left: 1em; padding-right: 1em; text-align: center; vertical-align: top\">alfred j lewy aka sandy<br>lewy graduated from ...</td>\n",
       "        <td style=\"padding-left: 1em; padding-right: 1em; text-align: center; vertical-align: top\">{'precise': 1, 'thomas':<br>1, 'they': 1, ...</td>\n",
       "    </tr>\n",
       "    <tr>\n",
       "        <td style=\"padding-left: 1em; padding-right: 1em; text-align: center; vertical-align: top\">2</td>\n",
       "        <td style=\"padding-left: 1em; padding-right: 1em; text-align: center; vertical-align: top\">&lt;http://dbpedia.org/resou<br>rce/Harpdog_Brown&gt; ...</td>\n",
       "        <td style=\"padding-left: 1em; padding-right: 1em; text-align: center; vertical-align: top\">Harpdog Brown</td>\n",
       "        <td style=\"padding-left: 1em; padding-right: 1em; text-align: center; vertical-align: top\">harpdog brown is a singer<br>and harmonica player who ...</td>\n",
       "        <td style=\"padding-left: 1em; padding-right: 1em; text-align: center; vertical-align: top\">{'just': 1, 'issued': 1,<br>'mainly': 1, 'nominat ...</td>\n",
       "    </tr>\n",
       "    <tr>\n",
       "        <td style=\"padding-left: 1em; padding-right: 1em; text-align: center; vertical-align: top\">3</td>\n",
       "        <td style=\"padding-left: 1em; padding-right: 1em; text-align: center; vertical-align: top\">&lt;http://dbpedia.org/resou<br>rce/Franz_Rottensteiner&gt; ...</td>\n",
       "        <td style=\"padding-left: 1em; padding-right: 1em; text-align: center; vertical-align: top\">Franz Rottensteiner</td>\n",
       "        <td style=\"padding-left: 1em; padding-right: 1em; text-align: center; vertical-align: top\">franz rottensteiner born<br>in waidmannsfeld lower ...</td>\n",
       "        <td style=\"padding-left: 1em; padding-right: 1em; text-align: center; vertical-align: top\">{'englishreading': 1,<br>'all': 1, 'bauforschu ...</td>\n",
       "    </tr>\n",
       "    <tr>\n",
       "        <td style=\"padding-left: 1em; padding-right: 1em; text-align: center; vertical-align: top\">4</td>\n",
       "        <td style=\"padding-left: 1em; padding-right: 1em; text-align: center; vertical-align: top\">&lt;http://dbpedia.org/resou<br>rce/G-Enka&gt; ...</td>\n",
       "        <td style=\"padding-left: 1em; padding-right: 1em; text-align: center; vertical-align: top\">G-Enka</td>\n",
       "        <td style=\"padding-left: 1em; padding-right: 1em; text-align: center; vertical-align: top\">henry krvits born 30<br>december 1974 in tallinn ...</td>\n",
       "        <td style=\"padding-left: 1em; padding-right: 1em; text-align: center; vertical-align: top\">{'they': 1,<br>'gangstergenka': 1, ...</td>\n",
       "    </tr>\n",
       "    <tr>\n",
       "        <td style=\"padding-left: 1em; padding-right: 1em; text-align: center; vertical-align: top\">5</td>\n",
       "        <td style=\"padding-left: 1em; padding-right: 1em; text-align: center; vertical-align: top\">&lt;http://dbpedia.org/resou<br>rce/Sam_Henderson&gt; ...</td>\n",
       "        <td style=\"padding-left: 1em; padding-right: 1em; text-align: center; vertical-align: top\">Sam Henderson</td>\n",
       "        <td style=\"padding-left: 1em; padding-right: 1em; text-align: center; vertical-align: top\">sam henderson born<br>october 18 1969 is an ...</td>\n",
       "        <td style=\"padding-left: 1em; padding-right: 1em; text-align: center; vertical-align: top\">{'now': 1, 'currently':<br>1, 'less': 1, 'being' ...</td>\n",
       "    </tr>\n",
       "    <tr>\n",
       "        <td style=\"padding-left: 1em; padding-right: 1em; text-align: center; vertical-align: top\">6</td>\n",
       "        <td style=\"padding-left: 1em; padding-right: 1em; text-align: center; vertical-align: top\">&lt;http://dbpedia.org/resou<br>rce/Aaron_LaCrate&gt; ...</td>\n",
       "        <td style=\"padding-left: 1em; padding-right: 1em; text-align: center; vertical-align: top\">Aaron LaCrate</td>\n",
       "        <td style=\"padding-left: 1em; padding-right: 1em; text-align: center; vertical-align: top\">aaron lacrate is an<br>american music producer ...</td>\n",
       "        <td style=\"padding-left: 1em; padding-right: 1em; text-align: center; vertical-align: top\">{'exclusive': 2,<br>'producer': 1, 'show' ...</td>\n",
       "    </tr>\n",
       "    <tr>\n",
       "        <td style=\"padding-left: 1em; padding-right: 1em; text-align: center; vertical-align: top\">7</td>\n",
       "        <td style=\"padding-left: 1em; padding-right: 1em; text-align: center; vertical-align: top\">&lt;http://dbpedia.org/resou<br>rce/Trevor_Ferguson&gt; ...</td>\n",
       "        <td style=\"padding-left: 1em; padding-right: 1em; text-align: center; vertical-align: top\">Trevor Ferguson</td>\n",
       "        <td style=\"padding-left: 1em; padding-right: 1em; text-align: center; vertical-align: top\">trevor ferguson aka john<br>farrow born 11 november ...</td>\n",
       "        <td style=\"padding-left: 1em; padding-right: 1em; text-align: center; vertical-align: top\">{'taxi': 1, 'salon': 1,<br>'gangs': 1, 'being': 1, ...</td>\n",
       "    </tr>\n",
       "    <tr>\n",
       "        <td style=\"padding-left: 1em; padding-right: 1em; text-align: center; vertical-align: top\">8</td>\n",
       "        <td style=\"padding-left: 1em; padding-right: 1em; text-align: center; vertical-align: top\">&lt;http://dbpedia.org/resou<br>rce/Grant_Nelson&gt; ...</td>\n",
       "        <td style=\"padding-left: 1em; padding-right: 1em; text-align: center; vertical-align: top\">Grant Nelson</td>\n",
       "        <td style=\"padding-left: 1em; padding-right: 1em; text-align: center; vertical-align: top\">grant nelson born 27<br>april 1971 in london  ...</td>\n",
       "        <td style=\"padding-left: 1em; padding-right: 1em; text-align: center; vertical-align: top\">{'houston': 1, 'frankie':<br>1, 'labels': 1, ...</td>\n",
       "    </tr>\n",
       "    <tr>\n",
       "        <td style=\"padding-left: 1em; padding-right: 1em; text-align: center; vertical-align: top\">9</td>\n",
       "        <td style=\"padding-left: 1em; padding-right: 1em; text-align: center; vertical-align: top\">&lt;http://dbpedia.org/resou<br>rce/Cathy_Caruth&gt; ...</td>\n",
       "        <td style=\"padding-left: 1em; padding-right: 1em; text-align: center; vertical-align: top\">Cathy Caruth</td>\n",
       "        <td style=\"padding-left: 1em; padding-right: 1em; text-align: center; vertical-align: top\">cathy caruth born 1955 is<br>frank h t rhodes ...</td>\n",
       "        <td style=\"padding-left: 1em; padding-right: 1em; text-align: center; vertical-align: top\">{'phenomenon': 1,<br>'deborash': 1, ...</td>\n",
       "    </tr>\n",
       "</table>\n",
       "<table frame=\"box\" rules=\"cols\">\n",
       "    <tr>\n",
       "        <th style=\"padding-left: 1em; padding-right: 1em; text-align: center\">has_top_words</th>\n",
       "        <th style=\"padding-left: 1em; padding-right: 1em; text-align: center\">tf_idf</th>\n",
       "    </tr>\n",
       "    <tr>\n",
       "        <td style=\"padding-left: 1em; padding-right: 1em; text-align: center; vertical-align: top\">1</td>\n",
       "        <td style=\"padding-left: 1em; padding-right: 1em; text-align: center; vertical-align: top\">{'selection':<br>3.836578553093086, ...</td>\n",
       "    </tr>\n",
       "    <tr>\n",
       "        <td style=\"padding-left: 1em; padding-right: 1em; text-align: center; vertical-align: top\">1</td>\n",
       "        <td style=\"padding-left: 1em; padding-right: 1em; text-align: center; vertical-align: top\">{'precise':<br>6.44320060695519, ...</td>\n",
       "    </tr>\n",
       "    <tr>\n",
       "        <td style=\"padding-left: 1em; padding-right: 1em; text-align: center; vertical-align: top\">1</td>\n",
       "        <td style=\"padding-left: 1em; padding-right: 1em; text-align: center; vertical-align: top\">{'just':<br>2.7007299687108643, ...</td>\n",
       "    </tr>\n",
       "    <tr>\n",
       "        <td style=\"padding-left: 1em; padding-right: 1em; text-align: center; vertical-align: top\">1</td>\n",
       "        <td style=\"padding-left: 1em; padding-right: 1em; text-align: center; vertical-align: top\">{'englishreading':<br>10.293348208665249, ...</td>\n",
       "    </tr>\n",
       "    <tr>\n",
       "        <td style=\"padding-left: 1em; padding-right: 1em; text-align: center; vertical-align: top\">0</td>\n",
       "        <td style=\"padding-left: 1em; padding-right: 1em; text-align: center; vertical-align: top\">{'they':<br>1.8993401178193898, ...</td>\n",
       "    </tr>\n",
       "    <tr>\n",
       "        <td style=\"padding-left: 1em; padding-right: 1em; text-align: center; vertical-align: top\">0</td>\n",
       "        <td style=\"padding-left: 1em; padding-right: 1em; text-align: center; vertical-align: top\">{'now': 1.96695239252401,<br>'currently': ...</td>\n",
       "    </tr>\n",
       "    <tr>\n",
       "        <td style=\"padding-left: 1em; padding-right: 1em; text-align: center; vertical-align: top\">1</td>\n",
       "        <td style=\"padding-left: 1em; padding-right: 1em; text-align: center; vertical-align: top\">{'exclusive':<br>10.455187230695827, ...</td>\n",
       "    </tr>\n",
       "    <tr>\n",
       "        <td style=\"padding-left: 1em; padding-right: 1em; text-align: center; vertical-align: top\">1</td>\n",
       "        <td style=\"padding-left: 1em; padding-right: 1em; text-align: center; vertical-align: top\">{'taxi':<br>6.0520214560945025, ...</td>\n",
       "    </tr>\n",
       "    <tr>\n",
       "        <td style=\"padding-left: 1em; padding-right: 1em; text-align: center; vertical-align: top\">1</td>\n",
       "        <td style=\"padding-left: 1em; padding-right: 1em; text-align: center; vertical-align: top\">{'houston':<br>3.935505942157149, ...</td>\n",
       "    </tr>\n",
       "    <tr>\n",
       "        <td style=\"padding-left: 1em; padding-right: 1em; text-align: center; vertical-align: top\">1</td>\n",
       "        <td style=\"padding-left: 1em; padding-right: 1em; text-align: center; vertical-align: top\">{'phenomenon':<br>5.750053426395245, ...</td>\n",
       "    </tr>\n",
       "</table>\n",
       "[10 rows x 7 columns]<br/>\n",
       "</div>"
      ],
      "text/plain": [
       "Columns:\n",
       "\tid\tint\n",
       "\tURI\tstr\n",
       "\tname\tstr\n",
       "\ttext\tstr\n",
       "\tword_count\tdict\n",
       "\thas_top_words\tint\n",
       "\ttf_idf\tdict\n",
       "\n",
       "Rows: 10\n",
       "\n",
       "Data:\n",
       "+----+-------------------------------+---------------------+\n",
       "| id |              URI              |         name        |\n",
       "+----+-------------------------------+---------------------+\n",
       "| 0  | <http://dbpedia.org/resour... |    Digby Morrell    |\n",
       "| 1  | <http://dbpedia.org/resour... |    Alfred J. Lewy   |\n",
       "| 2  | <http://dbpedia.org/resour... |    Harpdog Brown    |\n",
       "| 3  | <http://dbpedia.org/resour... | Franz Rottensteiner |\n",
       "| 4  | <http://dbpedia.org/resour... |        G-Enka       |\n",
       "| 5  | <http://dbpedia.org/resour... |    Sam Henderson    |\n",
       "| 6  | <http://dbpedia.org/resour... |    Aaron LaCrate    |\n",
       "| 7  | <http://dbpedia.org/resour... |   Trevor Ferguson   |\n",
       "| 8  | <http://dbpedia.org/resour... |     Grant Nelson    |\n",
       "| 9  | <http://dbpedia.org/resour... |     Cathy Caruth    |\n",
       "+----+-------------------------------+---------------------+\n",
       "+-------------------------------+-------------------------------+---------------+\n",
       "|              text             |           word_count          | has_top_words |\n",
       "+-------------------------------+-------------------------------+---------------+\n",
       "| digby morrell born 10 octo... | {'selection': 1, 'carltons... |       1       |\n",
       "| alfred j lewy aka sandy le... | {'precise': 1, 'thomas': 1... |       1       |\n",
       "| harpdog brown is a singer ... | {'just': 1, 'issued': 1, '... |       1       |\n",
       "| franz rottensteiner born i... | {'englishreading': 1, 'all... |       1       |\n",
       "| henry krvits born 30 decem... | {'they': 1, 'gangstergenka... |       0       |\n",
       "| sam henderson born october... | {'now': 1, 'currently': 1,... |       0       |\n",
       "| aaron lacrate is an americ... | {'exclusive': 2, 'producer... |       1       |\n",
       "| trevor ferguson aka john f... | {'taxi': 1, 'salon': 1, 'g... |       1       |\n",
       "| grant nelson born 27 april... | {'houston': 1, 'frankie': ... |       1       |\n",
       "| cathy caruth born 1955 is ... | {'phenomenon': 1, 'deboras... |       1       |\n",
       "+-------------------------------+-------------------------------+---------------+\n",
       "+-------------------------------+\n",
       "|             tf_idf            |\n",
       "+-------------------------------+\n",
       "| {'selection': 3.8365785530... |\n",
       "| {'precise': 6.443200606955... |\n",
       "| {'just': 2.700729968710864... |\n",
       "| {'englishreading': 10.2933... |\n",
       "| {'they': 1.899340117819389... |\n",
       "| {'now': 1.96695239252401, ... |\n",
       "| {'exclusive': 10.455187230... |\n",
       "| {'taxi': 6.052021456094502... |\n",
       "| {'houston': 3.935505942157... |\n",
       "| {'phenomenon': 5.750053426... |\n",
       "+-------------------------------+\n",
       "[10 rows x 7 columns]"
      ]
     },
     "execution_count": 30,
     "metadata": {},
     "output_type": "execute_result"
    }
   ],
   "source": [
    "wiki.head()"
   ]
  },
  {
   "cell_type": "code",
   "execution_count": 31,
   "metadata": {
    "collapsed": false
   },
   "outputs": [
    {
     "data": {
      "text/plain": [
       "NearestNeighbors(algorithm='brute', leaf_size=30, metric='euclidean',\n",
       "         metric_params=None, n_jobs=1, n_neighbors=5, p=2, radius=1.0)"
      ]
     },
     "execution_count": 31,
     "metadata": {},
     "output_type": "execute_result"
    }
   ],
   "source": [
    "model_tf_idf = NearestNeighbors(metric='euclidean', algorithm='brute')\n",
    "model_tf_idf.fit(tf_idf)"
   ]
  },
  {
   "cell_type": "code",
   "execution_count": 32,
   "metadata": {
    "collapsed": true
   },
   "outputs": [],
   "source": [
    "distances, indices = model_tf_idf.kneighbors(tf_idf[35817], n_neighbors=100)"
   ]
  },
  {
   "cell_type": "code",
   "execution_count": 33,
   "metadata": {
    "collapsed": false
   },
   "outputs": [
    {
     "name": "stdout",
     "output_type": "stream",
     "text": [
      "+-------+-------------------------+---------------+\n",
      "|   id  |           name          |    distance   |\n",
      "+-------+-------------------------+---------------+\n",
      "| 35817 |       Barack Obama      |      0.0      |\n",
      "|  7914 |      Phil Schiliro      | 106.861013691 |\n",
      "| 46811 |      Jeff Sessions      | 108.871674216 |\n",
      "| 44681 |  Jesse Lee (politician) | 109.045697909 |\n",
      "| 38376 |      Samantha Power     | 109.108106165 |\n",
      "|  6507 |       Bob Menendez      | 109.781867105 |\n",
      "| 38714 | Eric Stern (politician) |  109.95778808 |\n",
      "| 44825 |      James A. Guest     | 110.413888718 |\n",
      "| 44368 |   Roland Grossenbacher  |  110.4706087  |\n",
      "| 33417 |      Tulsi Gabbard      | 110.696997999 |\n",
      "+-------+-------------------------+---------------+\n",
      "[100 rows x 3 columns]\n",
      "Note: Only the head of the SFrame is printed.\n",
      "You can use print_rows(num_rows=m, num_columns=n) to print more rows and columns.\n"
     ]
    }
   ],
   "source": [
    "neighbors = sframe.SFrame({'distance':distances.flatten(), 'id':indices.flatten()})\n",
    "print wiki.join(neighbors, on='id').sort('distance')[['id', 'name', 'distance']]"
   ]
  },
  {
   "cell_type": "code",
   "execution_count": 34,
   "metadata": {
    "collapsed": false
   },
   "outputs": [
    {
     "name": "stdout",
     "output_type": "stream",
     "text": [
      "+-------------+---------------+\n",
      "|     word    |     weight    |\n",
      "+-------------+---------------+\n",
      "|    obama    | 43.2956530721 |\n",
      "|     act     |  27.678222623 |\n",
      "|     iraq    |  17.747378588 |\n",
      "|   control   | 14.8870608452 |\n",
      "|     law     | 14.7229357618 |\n",
      "|   ordered   | 14.5333739509 |\n",
      "|   military  | 13.1159327785 |\n",
      "|   response  | 12.7843852412 |\n",
      "| involvement | 12.7843852412 |\n",
      "|  democratic | 12.4106886973 |\n",
      "+-------------+---------------+\n",
      "[273 rows x 2 columns]\n",
      "Note: Only the head of the SFrame is printed.\n",
      "You can use print_rows(num_rows=m, num_columns=n) to print more rows and columns.\n",
      "+-----------------+---------------+\n",
      "|       word      |     weight    |\n",
      "+-----------------+---------------+\n",
      "|     schiliro    | 21.9729907785 |\n",
      "|      staff      | 15.8564416352 |\n",
      "|  congressional  | 13.5470876563 |\n",
      "| daschleschiliro | 10.9864953892 |\n",
      "|      obama      | 9.62125623824 |\n",
      "|      waxman     | 9.04058524017 |\n",
      "|    president    | 9.03358661416 |\n",
      "|     2014from    | 8.68391029623 |\n",
      "|       law       | 7.36146788088 |\n",
      "|    consultant   | 6.91310403725 |\n",
      "+-----------------+---------------+\n",
      "[119 rows x 2 columns]\n",
      "Note: Only the head of the SFrame is printed.\n",
      "You can use print_rows(num_rows=m, num_columns=n) to print more rows and columns.\n"
     ]
    }
   ],
   "source": [
    "def top_words_tf_idf(name):\n",
    "    row = wiki[wiki['name'] == name]\n",
    "    word_count_table = row[['tf_idf']].stack('tf_idf', new_column_name=['word','weight'])\n",
    "    return word_count_table.sort('weight', ascending=False)\n",
    "\n",
    "obama_tf_idf = top_words_tf_idf('Barack Obama')\n",
    "print obama_tf_idf\n",
    "\n",
    "schiliro_tf_idf = top_words_tf_idf('Phil Schiliro')\n",
    "print schiliro_tf_idf"
   ]
  },
  {
   "cell_type": "code",
   "execution_count": 35,
   "metadata": {
    "collapsed": false
   },
   "outputs": [
    {
     "data": {
      "text/plain": [
       "14"
      ]
     },
     "execution_count": 35,
     "metadata": {},
     "output_type": "execute_result"
    }
   ],
   "source": [
    "top_words = set(obama_tf_idf.join(schiliro_tf_idf,on='word').rename({'weight':'obama', 'weight.1':'schiliro'}).sort(\n",
    "    'obama',ascending=False)['word'][0:5])  # YOUR CODE HERE\n",
    "\n",
    "def has_top_words(word_count_vector):\n",
    "    # extract the keys of word_count_vector and convert it to a set\n",
    "    unique_words = word_count_vector.keys()   # YOUR CODE HERE\n",
    "    # return True if common_words is a subset of unique_words\n",
    "    # return False otherwise\n",
    "    return top_words.issubset(unique_words)  # YOUR CODE HERE\n",
    "\n",
    "wiki['has_top_words'] = wiki['word_count'].apply(has_top_words)\n",
    "\n",
    "# use has_top_words column to answer the quiz question\n",
    "wiki['has_top_words'].sum()"
   ]
  },
  {
   "cell_type": "code",
   "execution_count": 36,
   "metadata": {
    "collapsed": false
   },
   "outputs": [
    {
     "data": {
      "text/plain": [
       "{'democratic', 'law', 'obama', 'presidential', 'senate'}"
      ]
     },
     "execution_count": 36,
     "metadata": {},
     "output_type": "execute_result"
    }
   ],
   "source": [
    "set(obama_tf_idf.join(schiliro_tf_idf,on='word').rename({'weight':'obama', 'weight.1':'schiliro'}).sort(\n",
    "    'obama',ascending=False)['word'][0:5])"
   ]
  },
  {
   "cell_type": "code",
   "execution_count": null,
   "metadata": {
    "collapsed": true
   },
   "outputs": [],
   "source": []
  },
  {
   "cell_type": "code",
   "execution_count": null,
   "metadata": {
    "collapsed": false
   },
   "outputs": [],
   "source": []
  },
  {
   "cell_type": "code",
   "execution_count": 38,
   "metadata": {
    "collapsed": false
   },
   "outputs": [],
   "source": [
    "row2 = wiki[wiki['name'] == 'Barack Obama']\n",
    "row1 = wiki[wiki['name'] == 'Joe Biden']"
   ]
  },
  {
   "cell_type": "code",
   "execution_count": 39,
   "metadata": {
    "collapsed": false
   },
   "outputs": [
    {
     "data": {
      "text/plain": [
       "{'13th': 4.9534091674263925,\n",
       " '1961': 3.3207419573634955,\n",
       " '1992': 2.278351314316948,\n",
       " '1996': 2.135691193468776,\n",
       " '1997': 2.1298344522079455,\n",
       " '20': 4.88376320446593,\n",
       " '2000in': 6.250296940830698,\n",
       " '2004': 5.071033082507702,\n",
       " '2007': 1.4879730697555795,\n",
       " '2008': 1.5093391374786154,\n",
       " '2009': 4.693309450812809,\n",
       " '2010': 3.185667920243947,\n",
       " '2011': 5.107041270312876,\n",
       " '2012': 1.7938099524877322,\n",
       " '2012obama': 10.986495389225194,\n",
       " '2013': 1.9545642372230505,\n",
       " '4': 2.437803530749586,\n",
       " '44th': 7.0744723837970485,\n",
       " '63': 5.22130428644035,\n",
       " '8': 2.7572509724892824,\n",
       " 'a': 0.039334291308082026,\n",
       " 'act': 27.67822262297991,\n",
       " 'address': 4.8023464982877115,\n",
       " 'administration': 3.2952952917023315,\n",
       " 'affordable': 6.134465125305577,\n",
       " 'afghanistan': 9.4197037997671,\n",
       " 'african': 3.582216271187926,\n",
       " 'after': 3.7773337680052257,\n",
       " 'against': 2.0079609791418744,\n",
       " 'american': 3.3821333532750204,\n",
       " 'americans': 4.761936959949835,\n",
       " 'and': 0.01564802185902329,\n",
       " 'arms': 5.030658019760364,\n",
       " 'as': 0.7630171320744707,\n",
       " 'ask': 5.510031837293684,\n",
       " 'at': 0.43063857330825733,\n",
       " 'attention': 3.4269358932174945,\n",
       " 'attorney': 3.6593720969659014,\n",
       " 'august': 2.000173951599175,\n",
       " 'barack': 5.067601534952048,\n",
       " 'before': 1.4967823726683713,\n",
       " 'began': 1.727460095710253,\n",
       " 'bin': 5.6158573610975315,\n",
       " 'bm': 7.202305755306933,\n",
       " 'born': 0.53639254752953,\n",
       " 'briefs': 7.460134864609033,\n",
       " 'brk': 10.293348208665249,\n",
       " 'budget': 4.523465932304524,\n",
       " 'by': 0.37455341206197373,\n",
       " 'californias': 5.923900356198227,\n",
       " 'called': 2.0784770664403074,\n",
       " 'campaign': 9.077468342511231,\n",
       " 'care': 3.916621260766622,\n",
       " 'chicago': 5.858235801334405,\n",
       " 'civil': 3.3244978303233013,\n",
       " 'clinton': 4.542364132524754,\n",
       " 'close': 3.5416621153330006,\n",
       " 'columbia': 3.232442750189437,\n",
       " 'combat': 4.932056042955824,\n",
       " 'community': 2.693196030513871,\n",
       " 'constitutional': 4.529725733653031,\n",
       " 'consumer': 4.7540473726746715,\n",
       " 'continued': 2.720588055069447,\n",
       " 'control': 14.887060845181308,\n",
       " 'convention': 4.417013968810898,\n",
       " 'court': 2.896399606044235,\n",
       " 'creation': 4.03568062078261,\n",
       " 'cuba': 5.005081177970713,\n",
       " 'current': 2.8308461188591933,\n",
       " 'death': 3.1568650000750016,\n",
       " 'debate': 4.783959872037272,\n",
       " 'debt': 5.6158573610975315,\n",
       " 'defeated': 3.4068165661347387,\n",
       " 'defeating': 4.285764279677384,\n",
       " 'defense': 3.794313330511949,\n",
       " 'degree': 2.0206498944742566,\n",
       " 'delegates': 6.142308302766603,\n",
       " 'democratic': 12.410688697332166,\n",
       " 'district': 2.774469584601757,\n",
       " 'doddfrank': 9.887883100557085,\n",
       " 'domestic': 8.967410686619141,\n",
       " 'dont': 8.28123102792229,\n",
       " 'down': 2.9476606314374463,\n",
       " 'during': 2.634930295807099,\n",
       " 'earning': 3.857197840295821,\n",
       " 'economic': 3.2704801225826072,\n",
       " 'election': 7.712676160711769,\n",
       " 'elementary': 4.96062941539988,\n",
       " 'ended': 3.3430124821479934,\n",
       " 'ending': 4.547145018125096,\n",
       " 'equality': 5.341048491581956,\n",
       " 'federal': 3.0888272384982884,\n",
       " 'filed': 4.70797396505935,\n",
       " 'first': 2.0868146141979307,\n",
       " 'for': 0.29145011737314763,\n",
       " 'foreign': 6.3816977057812005,\n",
       " 'form': 3.233730580373866,\n",
       " 'from': 0.8812660139569034,\n",
       " 'full': 3.003055326218652,\n",
       " 'gains': 6.7238155121838785,\n",
       " 'general': 2.220724845237937,\n",
       " 'graduate': 2.6750971107885535,\n",
       " 'great': 2.7682474625394486,\n",
       " 'gun': 5.269467687818973,\n",
       " 'harvard': 6.634000276435001,\n",
       " 'has': 1.713990158976156,\n",
       " 'hawaii': 4.806478735572622,\n",
       " 'he': 1.493579903611068,\n",
       " 'hillary': 6.002888767516858,\n",
       " 'his': 2.8887260073502303,\n",
       " 'hold': 4.144879912747602,\n",
       " 'honolulu': 5.880549915324614,\n",
       " 'hook': 6.2951475069960505,\n",
       " 'house': 4.651096468328522,\n",
       " 'husen': 10.986495389225194,\n",
       " 'hussein': 6.126682984863522,\n",
       " 'ii': 3.3077063910260405,\n",
       " 'illinois': 7.480254618245467,\n",
       " 'in': 0.028962190503643476,\n",
       " 'inaugurated': 6.27696518791286,\n",
       " 'included': 2.4446095852185854,\n",
       " 'increased': 4.75012579902149,\n",
       " 'initiatives': 4.895185507147496,\n",
       " 'insurance': 4.594578275832593,\n",
       " 'into': 1.6050629424066056,\n",
       " 'involvement': 12.784385241175055,\n",
       " 'iraq': 17.747378587965535,\n",
       " 'is': 0.05523250095103998,\n",
       " 'islamic': 4.785986215182504,\n",
       " 'january': 5.656236009557883,\n",
       " 'job': 3.446936559924164,\n",
       " 'john': 1.9913303989140443,\n",
       " 'july': 1.9428000946579587,\n",
       " 'keynote': 5.433535804303577,\n",
       " 'laden': 6.709829270209139,\n",
       " 'laureateduring': 10.986495389225194,\n",
       " 'law': 14.722935761763422,\n",
       " 'legislation': 4.687546142369252,\n",
       " 'lengthy': 5.862531409821935,\n",
       " 'levels': 4.647901311022012,\n",
       " 'lgbt': 5.5883326877074415,\n",
       " 'libya': 6.332535039067671,\n",
       " 'limit': 5.355283607403829,\n",
       " 'lost': 2.731706463076469,\n",
       " 'made': 1.519886215502974,\n",
       " 'major': 2.0581201293715634,\n",
       " 'march': 1.9573172463231197,\n",
       " 'marriage': 4.115404094614648,\n",
       " 'mccain': 6.766987684049088,\n",
       " 'military': 13.115932778499415,\n",
       " 'mitt': 6.812108119329557,\n",
       " 'months': 3.0427126967665687,\n",
       " 'named': 2.0300155412252816,\n",
       " 'national': 2.3721863295447827,\n",
       " 'nations': 3.361876403065796,\n",
       " 'new': 0.8871532656125274,\n",
       " 'nine': 3.2624907325491286,\n",
       " 'nobel': 5.075698745184667,\n",
       " 'nomination': 3.7697859025157365,\n",
       " 'nominee': 9.43101391473379,\n",
       " 'normalize': 10.293348208665249,\n",
       " 'not': 1.5880170751336171,\n",
       " 'november': 3.9453132752336004,\n",
       " 'obama': 43.2956530720749,\n",
       " 'obamacare': 9.04058524016988,\n",
       " 'of': 0.07481117158400744,\n",
       " 'office': 5.2481728232196465,\n",
       " 'often': 2.862641126119281,\n",
       " 'on': 0.36882550670120073,\n",
       " 'operation': 4.3584540130456615,\n",
       " 'operations': 3.811771079388818,\n",
       " 'or': 1.9128915408224825,\n",
       " 'ordered': 14.533373950913514,\n",
       " 'organizer': 5.501698455734539,\n",
       " 'osama': 6.604468754551313,\n",
       " 'other': 1.4424007566948476,\n",
       " 'over': 1.4878231559557336,\n",
       " 'party': 7.0620334604226676,\n",
       " 'patient': 5.6393878585077255,\n",
       " 'peace': 3.7928095708300824,\n",
       " 'policies': 4.660345916070095,\n",
       " 'policy': 6.095386282141427,\n",
       " 'president': 7.226869291326606,\n",
       " 'presidential': 7.386955418904825,\n",
       " 'primaries': 6.669007275688884,\n",
       " 'primary': 6.710127449296579,\n",
       " 'prize': 2.7453192387302345,\n",
       " 'process': 3.7451291059028766,\n",
       " 'promoted': 3.5191243223076345,\n",
       " 'proposition': 6.926052378678775,\n",
       " 'protection': 8.698474715881474,\n",
       " 'raise': 4.67476058007228,\n",
       " 'reauthorization': 8.907053847545358,\n",
       " 'receive': 4.448355565457525,\n",
       " 'received': 1.5396609815666638,\n",
       " 'recession': 6.642689967371511,\n",
       " 'recovery': 5.103173000736915,\n",
       " 'reelected': 3.68265216394749,\n",
       " 'referred': 4.255477288743111,\n",
       " 'reform': 4.092839034622559,\n",
       " 'regained': 5.583818007352915,\n",
       " 'reinvestment': 8.421546031763658,\n",
       " 'related': 3.723866788250953,\n",
       " 'relations': 3.445873860568042,\n",
       " 'relief': 8.842460838379667,\n",
       " 'repeal': 7.297615935111258,\n",
       " 'represent': 4.184100625900883,\n",
       " 'representatives': 7.484535747243688,\n",
       " 'representing': 3.535253704237518,\n",
       " 'republican': 7.207497878972565,\n",
       " 'republicans': 5.592867842872833,\n",
       " 'response': 12.784385241175055,\n",
       " 'resulted': 4.015765311081669,\n",
       " 'review': 3.227734845067532,\n",
       " 'rights': 3.06677562830062,\n",
       " 'rodham': 7.690658523220865,\n",
       " 'romney': 6.843360662833661,\n",
       " 'running': 3.3516747114796512,\n",
       " 'russia': 4.025199343315028,\n",
       " 'sandy': 5.493433945884646,\n",
       " 'school': 3.6683618376520553,\n",
       " 'seats': 5.000043383940756,\n",
       " 'second': 3.344851662973069,\n",
       " 'senate': 10.164288179703693,\n",
       " 'served': 3.0725446998610506,\n",
       " 'shooting': 4.682046586803213,\n",
       " 'signed': 7.552957376250012,\n",
       " 'sought': 4.327201469541557,\n",
       " 'spending': 4.176352939110058,\n",
       " 'start': 3.281232914358869,\n",
       " 'state': 1.7090572737165175,\n",
       " 'states': 5.473200989631017,\n",
       " 'stimulus': 7.654290879049991,\n",
       " 'street': 3.250188292676909,\n",
       " 'strike': 5.025490049601921,\n",
       " 'sufficient': 6.432618497624653,\n",
       " 'supreme': 3.9140734886878232,\n",
       " 'sworn': 4.96062941539988,\n",
       " 'taught': 2.8485149347730556,\n",
       " 'tax': 4.545548848592274,\n",
       " 'taxpayer': 7.431147327735781,\n",
       " 'tell': 4.804410482508563,\n",
       " 'term': 9.319341564760851,\n",
       " 'terms': 3.8240978918694766,\n",
       " 'that': 0.6614069466714981,\n",
       " 'the': 0.004063113702956533,\n",
       " 'then': 1.4309354361561304,\n",
       " 'three': 1.4915025293575952,\n",
       " 'to': 0.6572291275451891,\n",
       " 'total': 3.2767385247710297,\n",
       " 'treaty': 5.89889905399281,\n",
       " 'troop': 7.248825770941826,\n",
       " 'two': 1.0988831858473562,\n",
       " 'unconstitutional': 6.8276123058655225,\n",
       " 'unemployment': 6.642689967371511,\n",
       " 'united': 4.703766236011668,\n",
       " 'university': 1.6946860096423695,\n",
       " 'unsuccessfully': 4.831637295208776,\n",
       " 'urged': 6.199003646443148,\n",
       " 'us': 11.591942692842837,\n",
       " 'victory': 3.384593429350028,\n",
       " 'wall': 4.021415043623787,\n",
       " 'war': 2.809822617276739,\n",
       " 'was': 0.3968289280609173,\n",
       " 'where': 1.089076212090673,\n",
       " 'whether': 4.744272123770029,\n",
       " 'which': 0.7674309670437692,\n",
       " 'while': 1.8364359481339414,\n",
       " 'with': 0.6074059275661821,\n",
       " 'withdrawal': 6.27696518791286,\n",
       " 'won': 1.3836400683164753,\n",
       " 'worked': 1.553891853362109,\n",
       " 'years': 1.0752380994247055}"
      ]
     },
     "execution_count": 39,
     "metadata": {},
     "output_type": "execute_result"
    }
   ],
   "source": [
    "row2['tf_idf'][0]"
   ]
  },
  {
   "cell_type": "code",
   "execution_count": 40,
   "metadata": {
    "collapsed": true
   },
   "outputs": [],
   "source": [
    "biden_tf_idf = top_words_tf_idf('Joe Biden')"
   ]
  },
  {
   "cell_type": "code",
   "execution_count": 41,
   "metadata": {
    "collapsed": false
   },
   "outputs": [],
   "source": [
    "combined = obama_tf_idf.join(biden_tf_idf,on='word')"
   ]
  },
  {
   "cell_type": "code",
   "execution_count": 42,
   "metadata": {
    "collapsed": false
   },
   "outputs": [
    {
     "data": {
      "text/html": [
       "<div style=\"max-height:1000px;max-width:1500px;overflow:auto;\"><table frame=\"box\" rules=\"cols\">\n",
       "    <tr>\n",
       "        <th style=\"padding-left: 1em; padding-right: 1em; text-align: center\">word</th>\n",
       "        <th style=\"padding-left: 1em; padding-right: 1em; text-align: center\">weight</th>\n",
       "        <th style=\"padding-left: 1em; padding-right: 1em; text-align: center\">weight.1</th>\n",
       "    </tr>\n",
       "    <tr>\n",
       "        <td style=\"padding-left: 1em; padding-right: 1em; text-align: center; vertical-align: top\">obama</td>\n",
       "        <td style=\"padding-left: 1em; padding-right: 1em; text-align: center; vertical-align: top\">43.2956530721</td>\n",
       "        <td style=\"padding-left: 1em; padding-right: 1em; text-align: center; vertical-align: top\">19.2425124765</td>\n",
       "    </tr>\n",
       "    <tr>\n",
       "        <td style=\"padding-left: 1em; padding-right: 1em; text-align: center; vertical-align: top\">act</td>\n",
       "        <td style=\"padding-left: 1em; padding-right: 1em; text-align: center; vertical-align: top\">27.678222623</td>\n",
       "        <td style=\"padding-left: 1em; padding-right: 1em; text-align: center; vertical-align: top\">17.2988891394</td>\n",
       "    </tr>\n",
       "    <tr>\n",
       "        <td style=\"padding-left: 1em; padding-right: 1em; text-align: center; vertical-align: top\">iraq</td>\n",
       "        <td style=\"padding-left: 1em; padding-right: 1em; text-align: center; vertical-align: top\">17.747378588</td>\n",
       "        <td style=\"padding-left: 1em; padding-right: 1em; text-align: center; vertical-align: top\">4.43684464699</td>\n",
       "    </tr>\n",
       "    <tr>\n",
       "        <td style=\"padding-left: 1em; padding-right: 1em; text-align: center; vertical-align: top\">control</td>\n",
       "        <td style=\"padding-left: 1em; padding-right: 1em; text-align: center; vertical-align: top\">14.8870608452</td>\n",
       "        <td style=\"padding-left: 1em; padding-right: 1em; text-align: center; vertical-align: top\">7.44353042259</td>\n",
       "    </tr>\n",
       "    <tr>\n",
       "        <td style=\"padding-left: 1em; padding-right: 1em; text-align: center; vertical-align: top\">law</td>\n",
       "        <td style=\"padding-left: 1em; padding-right: 1em; text-align: center; vertical-align: top\">14.7229357618</td>\n",
       "        <td style=\"padding-left: 1em; padding-right: 1em; text-align: center; vertical-align: top\">2.45382262696</td>\n",
       "    </tr>\n",
       "    <tr>\n",
       "        <td style=\"padding-left: 1em; padding-right: 1em; text-align: center; vertical-align: top\">military</td>\n",
       "        <td style=\"padding-left: 1em; padding-right: 1em; text-align: center; vertical-align: top\">13.1159327785</td>\n",
       "        <td style=\"padding-left: 1em; padding-right: 1em; text-align: center; vertical-align: top\">3.27898319462</td>\n",
       "    </tr>\n",
       "    <tr>\n",
       "        <td style=\"padding-left: 1em; padding-right: 1em; text-align: center; vertical-align: top\">democratic</td>\n",
       "        <td style=\"padding-left: 1em; padding-right: 1em; text-align: center; vertical-align: top\">12.4106886973</td>\n",
       "        <td style=\"padding-left: 1em; padding-right: 1em; text-align: center; vertical-align: top\">9.308016523</td>\n",
       "    </tr>\n",
       "    <tr>\n",
       "        <td style=\"padding-left: 1em; padding-right: 1em; text-align: center; vertical-align: top\">us</td>\n",
       "        <td style=\"padding-left: 1em; padding-right: 1em; text-align: center; vertical-align: top\">11.5919426928</td>\n",
       "        <td style=\"padding-left: 1em; padding-right: 1em; text-align: center; vertical-align: top\">9.65995224404</td>\n",
       "    </tr>\n",
       "    <tr>\n",
       "        <td style=\"padding-left: 1em; padding-right: 1em; text-align: center; vertical-align: top\">senate</td>\n",
       "        <td style=\"padding-left: 1em; padding-right: 1em; text-align: center; vertical-align: top\">10.1642881797</td>\n",
       "        <td style=\"padding-left: 1em; padding-right: 1em; text-align: center; vertical-align: top\">10.1642881797</td>\n",
       "    </tr>\n",
       "    <tr>\n",
       "        <td style=\"padding-left: 1em; padding-right: 1em; text-align: center; vertical-align: top\">nominee</td>\n",
       "        <td style=\"padding-left: 1em; padding-right: 1em; text-align: center; vertical-align: top\">9.43101391473</td>\n",
       "        <td style=\"padding-left: 1em; padding-right: 1em; text-align: center; vertical-align: top\">4.71550695737</td>\n",
       "    </tr>\n",
       "</table>\n",
       "[84 rows x 3 columns]<br/>Note: Only the head of the SFrame is printed.<br/>You can use print_rows(num_rows=m, num_columns=n) to print more rows and columns.\n",
       "</div>"
      ],
      "text/plain": [
       "Columns:\n",
       "\tword\tstr\n",
       "\tweight\tfloat\n",
       "\tweight.1\tfloat\n",
       "\n",
       "Rows: 84\n",
       "\n",
       "Data:\n",
       "+------------+---------------+---------------+\n",
       "|    word    |     weight    |    weight.1   |\n",
       "+------------+---------------+---------------+\n",
       "|   obama    | 43.2956530721 | 19.2425124765 |\n",
       "|    act     |  27.678222623 | 17.2988891394 |\n",
       "|    iraq    |  17.747378588 | 4.43684464699 |\n",
       "|  control   | 14.8870608452 | 7.44353042259 |\n",
       "|    law     | 14.7229357618 | 2.45382262696 |\n",
       "|  military  | 13.1159327785 | 3.27898319462 |\n",
       "| democratic | 12.4106886973 |  9.308016523  |\n",
       "|     us     | 11.5919426928 | 9.65995224404 |\n",
       "|   senate   | 10.1642881797 | 10.1642881797 |\n",
       "|  nominee   | 9.43101391473 | 4.71550695737 |\n",
       "+------------+---------------+---------------+\n",
       "[84 rows x 3 columns]\n",
       "Note: Only the head of the SFrame is printed.\n",
       "You can use print_rows(num_rows=m, num_columns=n) to print more rows and columns."
      ]
     },
     "execution_count": 42,
     "metadata": {},
     "output_type": "execute_result"
    }
   ],
   "source": [
    "combined"
   ]
  },
  {
   "cell_type": "code",
   "execution_count": 43,
   "metadata": {
    "collapsed": false
   },
   "outputs": [],
   "source": [
    "dist = np.linalg.norm(combined['weight']-combined['weight.1'])\n"
   ]
  },
  {
   "cell_type": "code",
   "execution_count": 44,
   "metadata": {
    "collapsed": false
   },
   "outputs": [
    {
     "data": {
      "text/plain": [
       "37.905330659200246"
      ]
     },
     "execution_count": 44,
     "metadata": {},
     "output_type": "execute_result"
    }
   ],
   "source": [
    "dist"
   ]
  },
  {
   "cell_type": "code",
   "execution_count": 45,
   "metadata": {
    "collapsed": false
   },
   "outputs": [
    {
     "data": {
      "text/plain": [
       "1436.814092383306"
      ]
     },
     "execution_count": 45,
     "metadata": {},
     "output_type": "execute_result"
    }
   ],
   "source": [
    "((combined['weight']-combined['weight.1'])*(combined['weight']-combined['weight.1'])).sum()"
   ]
  },
  {
   "cell_type": "code",
   "execution_count": 46,
   "metadata": {
    "collapsed": false
   },
   "outputs": [
    {
     "data": {
      "text/plain": [
       "{'15': 2.527567105940933,\n",
       " '1942': 4.106111307039189,\n",
       " '1969': 2.8490995591685433,\n",
       " '1970': 2.813766284359722,\n",
       " '1972': 2.8070152038663028,\n",
       " '1973': 2.808137223619358,\n",
       " '1988': 2.4491074905234376,\n",
       " '1991': 2.3750835225699753,\n",
       " '20': 2.441881602232965,\n",
       " '2002': 1.8753125887822302,\n",
       " '2008': 3.0186782749572307,\n",
       " '2009': 1.5644364836042695,\n",
       " '2010': 1.5928339601219734,\n",
       " '2011': 1.7023470901042919,\n",
       " '2012': 5.381429857463196,\n",
       " '3': 2.3430220318986272,\n",
       " '47th': 7.248825770941826,\n",
       " 'a': 0.03371510683549888,\n",
       " 'ability': 4.213415013569659,\n",
       " 'about': 3.8530257976751474,\n",
       " 'act': 17.298889139362444,\n",
       " 'addressed': 5.425813758209666,\n",
       " 'advocacy': 4.827400000733261,\n",
       " 'against': 2.0079609791418744,\n",
       " 'aimed': 5.1487649420592545,\n",
       " 'alongside': 3.2975820523603985,\n",
       " 'also': 0.4627270916162349,\n",
       " 'alter': 6.453895896071939,\n",
       " 'american': 1.1273777844250068,\n",
       " 'an': 0.2982390890818971,\n",
       " 'and': 0.014157734062925836,\n",
       " 'as': 0.2543390440248236,\n",
       " 'assistance': 4.941490075189183,\n",
       " 'at': 0.43063857330825733,\n",
       " 'attorney': 3.6593720969659014,\n",
       " 'badn': 10.986495389225194,\n",
       " 'barack': 10.135203069904096,\n",
       " 'be': 1.4062480045415613,\n",
       " 'became': 2.6601198661099033,\n",
       " 'become': 2.4964678658817263,\n",
       " 'been': 0.9774773354796025,\n",
       " 'before': 1.4967823726683713,\n",
       " 'biden': 63.92610492536963,\n",
       " 'bipartisan': 6.497859019493054,\n",
       " 'bork': 8.907053847545358,\n",
       " 'born': 0.53639254752953,\n",
       " 'bosnian': 6.27696518791286,\n",
       " 'both': 1.6730570592454443,\n",
       " 'bring': 4.283307275984332,\n",
       " 'bringing': 4.601300990227469,\n",
       " 'budget': 4.523465932304524,\n",
       " 'but': 1.313994565464302,\n",
       " 'castle': 5.100391357775038,\n",
       " 'catholic': 3.9372405479693575,\n",
       " 'ceiling': 7.322933743095548,\n",
       " 'chaired': 4.397568911691675,\n",
       " 'chairman': 5.2674105082011335,\n",
       " 'civil': 3.3244978303233013,\n",
       " 'clarence': 6.3421044900838215,\n",
       " 'cliff': 5.874507600868651,\n",
       " 'committee': 7.404308751700425,\n",
       " 'congressional': 4.515695885442592,\n",
       " 'contentious': 7.157853992736099,\n",
       " 'control': 7.443530422590654,\n",
       " 'council': 2.3398541306220704,\n",
       " 'counteracting': 10.293348208665249,\n",
       " 'county': 2.8412358227083288,\n",
       " 'court': 2.896399606044235,\n",
       " 'creation': 8.07136124156522,\n",
       " 'crime': 8.052295320247774,\n",
       " 'crisis': 4.328484343354446,\n",
       " 'current': 2.8308461188591933,\n",
       " 'deadlock': 8.09612363132903,\n",
       " 'dealing': 5.028070696195412,\n",
       " 'deals': 5.1115646583731635,\n",
       " 'debt': 5.6158573610975315,\n",
       " 'decisionmaking': 6.709829270209139,\n",
       " 'delaware': 11.396456717061318,\n",
       " 'delawarean': 10.986495389225194,\n",
       " 'democratic': 9.308016522999125,\n",
       " 'dosf': 10.986495389225194,\n",
       " 'dropping': 5.923900356198227,\n",
       " 'drug': 4.308153274570862,\n",
       " 'during': 2.634930295807099,\n",
       " 'early': 1.929422753652229,\n",
       " 'elected': 8.95276190738228,\n",
       " 'election': 5.14178410714118,\n",
       " 'enforcement': 5.2088430660025375,\n",
       " 'favor': 5.224444006445018,\n",
       " 'first': 2.0868146141979307,\n",
       " 'fiscal': 5.750053426395245,\n",
       " 'following': 1.9609195556941061,\n",
       " 'for': 0.21858758802986072,\n",
       " 'foreign': 3.1908488528906003,\n",
       " 'former': 1.3573131120992086,\n",
       " 'fourth': 3.078843794514105,\n",
       " 'from': 0.8812660139569034,\n",
       " 'gulf': 4.963047796264162,\n",
       " 'has': 0.856995079488078,\n",
       " 'he': 1.493579903611068,\n",
       " 'heavily': 4.584578192498009,\n",
       " 'held': 2.1669778486203057,\n",
       " 'helped': 2.9399460319421156,\n",
       " 'his': 1.3130572760682866,\n",
       " 'history': 2.1447579606246094,\n",
       " 'impending': 7.654290879049991,\n",
       " 'in': 0.015446501601943188,\n",
       " 'infrastructure': 5.187402734764668,\n",
       " 'insurance': 4.594578275832593,\n",
       " 'intervention': 5.844831832722535,\n",
       " 'involved': 2.674114792438443,\n",
       " 'iraq': 4.436844646991384,\n",
       " 'is': 0.08284875142655997,\n",
       " 'issues': 3.0010110324913715,\n",
       " 'january': 3.770824006371922,\n",
       " 'job': 3.446936559924164,\n",
       " 'joe': 3.6099872628989744,\n",
       " 'jointly': 5.4811638532928315,\n",
       " 'joseph': 3.7092476625937105,\n",
       " 'jr': 3.465718974162397,\n",
       " 'judiciary': 11.011712931766406,\n",
       " 'key': 3.552238007092059,\n",
       " 'late2000s': 8.683910296231149,\n",
       " 'later': 1.4294496043477696,\n",
       " 'law': 2.4538226269605703,\n",
       " 'led': 2.2402561008421333,\n",
       " 'liberties': 5.923900356198227,\n",
       " 'lived': 3.378120914844411,\n",
       " 'longtime': 4.093853748053105,\n",
       " 'member': 2.440865025201477,\n",
       " 'military': 3.2789831946248538,\n",
       " 'most': 1.4186204428983973,\n",
       " 'moving': 3.1908488528906003,\n",
       " 'negotiate': 6.682430296021025,\n",
       " 'new': 0.8871532656125274,\n",
       " 'nomination': 3.7697859025157365,\n",
       " 'nominations': 4.560006931767504,\n",
       " 'nominee': 4.715506957366895,\n",
       " 'november': 1.9726566376168002,\n",
       " 'obama': 19.24251247647773,\n",
       " 'obamabiden': 9.377057476791094,\n",
       " 'obamas': 6.2951475069960505,\n",
       " 'of': 0.049874114389338295,\n",
       " 'on': 0.18441275335060037,\n",
       " 'opposed': 4.717399105518933,\n",
       " 'out': 1.8484031814566355,\n",
       " 'oversight': 5.629909114553182,\n",
       " 'package': 5.827440090010665,\n",
       " 'party': 4.708022306948445,\n",
       " 'pennsylvania': 3.677952591686004,\n",
       " 'played': 1.5454402004384837,\n",
       " 'policy': 3.0476931410707135,\n",
       " 'presidency': 4.582921191290379,\n",
       " 'president': 9.033586614158258,\n",
       " 'presidential': 7.386955418904825,\n",
       " 'prevention': 5.105962402824494,\n",
       " 'process': 3.7451291059028766,\n",
       " 'proposed': 4.523465932304524,\n",
       " 'race': 3.285295208367748,\n",
       " 'rbnt': 10.986495389225194,\n",
       " 'reauthorization': 8.907053847545358,\n",
       " 'recession': 6.642689967371511,\n",
       " 'reelected': 7.36530432789498,\n",
       " 'related': 3.723866788250953,\n",
       " 'relations': 3.445873860568042,\n",
       " 'relief': 8.842460838379667,\n",
       " 'republicans': 5.592867842872833,\n",
       " 'resignation': 8.322070705939774,\n",
       " 'resolution': 5.334006208956544,\n",
       " 'resolutions': 7.460134864609033,\n",
       " 'resolved': 13.135309562857193,\n",
       " 'resulted': 4.015765311081669,\n",
       " 'robert': 2.802818806604537,\n",
       " 'robinette': 9.887883100557085,\n",
       " 'role': 4.40711806575186,\n",
       " 'roman': 4.455617761499309,\n",
       " 'scranton': 7.585298007563039,\n",
       " 'second': 1.6724258314865346,\n",
       " 'selected': 2.779911774904442,\n",
       " 'senate': 10.164288179703693,\n",
       " 'senator': 11.716882477603237,\n",
       " 'senior': 2.2990532222492712,\n",
       " 'served': 1.5362723499305253,\n",
       " 'six': 2.4538226269605703,\n",
       " 'sixthyoungest': 9.600201028105303,\n",
       " 'sought': 4.327201469541557,\n",
       " 'spending': 4.176352939110058,\n",
       " 'states': 5.473200989631017,\n",
       " 'stimulus': 7.654290879049991,\n",
       " 'strategy': 4.316997299367315,\n",
       " 'strong': 3.4722407364087844,\n",
       " 'supreme': 3.9140734886878232,\n",
       " 'tax': 4.545548848592274,\n",
       " 'taxation': 6.199003646443148,\n",
       " 'taxpayer': 7.431147327735781,\n",
       " 'ten': 2.9294347072594293,\n",
       " 'term': 3.1064471882536173,\n",
       " 'that': 3.3070347333574905,\n",
       " 'the': 0.0033520688049391402,\n",
       " 'there': 4.601145189068939,\n",
       " 'thomasbiden': 10.986495389225194,\n",
       " 'time': 1.3253342074200498,\n",
       " 'times': 4.200172444751827,\n",
       " 'to': 0.5163943144997915,\n",
       " 'unemployment': 6.642689967371511,\n",
       " 'united': 4.703766236011668,\n",
       " 'unsuccessfully': 4.831637295208776,\n",
       " 'until': 1.7591012626831841,\n",
       " 'us': 9.659952244035697,\n",
       " 'vice': 15.355736099810581,\n",
       " 'violence': 4.483705343309571,\n",
       " 'violent': 5.25639560625162,\n",
       " 'voted': 3.922591427753126,\n",
       " 'war': 8.429467851830218,\n",
       " 'was': 0.6349262848974677,\n",
       " 'were': 1.521978023354629,\n",
       " 'with': 0.6074059275661821,\n",
       " 'women': 3.0715123833768,\n",
       " 'years': 2.150476198849411}"
      ]
     },
     "execution_count": 46,
     "metadata": {},
     "output_type": "execute_result"
    }
   ],
   "source": [
    "row1['tf_idf'][0]"
   ]
  },
  {
   "cell_type": "code",
   "execution_count": 47,
   "metadata": {
    "collapsed": false
   },
   "outputs": [
    {
     "data": {
      "text/plain": [
       "123.29745600964296"
      ]
     },
     "execution_count": 47,
     "metadata": {},
     "output_type": "execute_result"
    }
   ],
   "source": [
    "graphlab.toolkits.distances.euclidean(row1['tf_idf'][0], row2['tf_idf'][0])"
   ]
  },
  {
   "cell_type": "code",
   "execution_count": 86,
   "metadata": {
    "collapsed": false
   },
   "outputs": [
    {
     "ename": "AttributeError",
     "evalue": "'module' object has no attribute 'connect'",
     "output_type": "error",
     "traceback": [
      "\u001b[1;31m---------------------------------------------------------------------------\u001b[0m",
      "\u001b[1;31mAttributeError\u001b[0m                            Traceback (most recent call last)",
      "\u001b[1;32m<ipython-input-86-4b66ad388e97>\u001b[0m in \u001b[0;36m<module>\u001b[1;34m()\u001b[0m\n\u001b[1;32m----> 1\u001b[1;33m \u001b[1;32mimport\u001b[0m \u001b[0mgraphlab\u001b[0m\u001b[1;33m\u001b[0m\u001b[0m\n\u001b[0m",
      "\u001b[1;32m/home/tamim/anaconda3/envs/dato-env/lib/python2.7/site-packages/graphlab/__init__.py\u001b[0m in \u001b[0;36m<module>\u001b[1;34m()\u001b[0m\n\u001b[0;32m     48\u001b[0m \u001b[1;32mfrom\u001b[0m \u001b[0mgraphlab\u001b[0m\u001b[1;33m.\u001b[0m\u001b[0mutil\u001b[0m \u001b[1;32mimport\u001b[0m \u001b[0mset_runtime_config\u001b[0m\u001b[1;33m\u001b[0m\u001b[0m\n\u001b[0;32m     49\u001b[0m \u001b[1;33m\u001b[0m\u001b[0m\n\u001b[1;32m---> 50\u001b[1;33m \u001b[1;32mimport\u001b[0m \u001b[0mgraphlab\u001b[0m\u001b[1;33m.\u001b[0m\u001b[0mconnect\u001b[0m \u001b[1;32mas\u001b[0m \u001b[0m_mt\u001b[0m\u001b[1;33m\u001b[0m\u001b[0m\n\u001b[0m\u001b[0;32m     51\u001b[0m \u001b[1;32mimport\u001b[0m \u001b[0mgraphlab\u001b[0m\u001b[1;33m.\u001b[0m\u001b[0mconnect\u001b[0m\u001b[1;33m.\u001b[0m\u001b[0maws\u001b[0m \u001b[1;32mas\u001b[0m \u001b[0maws\u001b[0m\u001b[1;33m\u001b[0m\u001b[0m\n\u001b[0;32m     52\u001b[0m \u001b[1;32mfrom\u001b[0m \u001b[1;33m.\u001b[0m \u001b[1;32mimport\u001b[0m \u001b[0mvisualization\u001b[0m\u001b[1;33m\u001b[0m\u001b[0m\n",
      "\u001b[1;31mAttributeError\u001b[0m: 'module' object has no attribute 'connect'"
     ]
    }
   ],
   "source": []
  },
  {
   "cell_type": "code",
   "execution_count": null,
   "metadata": {
    "collapsed": true
   },
   "outputs": [],
   "source": []
  }
 ],
 "metadata": {
  "kernelspec": {
   "display_name": "Python [dato-env]",
   "language": "python",
   "name": "Python [dato-env]"
  },
  "language_info": {
   "codemirror_mode": {
    "name": "ipython",
    "version": 2
   },
   "file_extension": ".py",
   "mimetype": "text/x-python",
   "name": "python",
   "nbconvert_exporter": "python",
   "pygments_lexer": "ipython2",
   "version": "2.7.12"
  }
 },
 "nbformat": 4,
 "nbformat_minor": 0
}
